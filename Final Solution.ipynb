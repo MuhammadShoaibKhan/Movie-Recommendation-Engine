{
 "cells": [
  {
   "cell_type": "code",
   "execution_count": 24,
   "metadata": {},
   "outputs": [],
   "source": [
    "# Supress Warnings\n",
    "\n",
    "import warnings\n",
    "warnings.filterwarnings('ignore')"
   ]
  },
  {
   "cell_type": "markdown",
   "metadata": {},
   "source": [
    "## Importing Basic Libraries"
   ]
  },
  {
   "cell_type": "code",
   "execution_count": 25,
   "metadata": {
    "scrolled": true
   },
   "outputs": [],
   "source": [
    "# lets import the basic Libraries\n",
    "import numpy as np\n",
    "import pandas as pd\n",
    "\n",
    "# for data visualization\n",
    "import matplotlib.pyplot as plt\n",
    "import seaborn as sns\n",
    "\n",
    "# for jupyter notebook widgets\n",
    "import ipywidgets as widgets\n",
    "from ipywidgets import interact\n",
    "from ipywidgets import interact_manual\n",
    "\n",
    "# for Interactive Shells\n",
    "from IPython.display import display\n",
    "\n",
    "# setting up the chart size and background\n",
    "plt.rcParams['figure.figsize'] = (16, 8)\n",
    "plt.style.use('fivethirtyeight')"
   ]
  },
  {
   "cell_type": "markdown",
   "metadata": {},
   "source": [
    "## Lets read the Dataset"
   ]
  },
  {
   "cell_type": "code",
   "execution_count": 26,
   "metadata": {
    "scrolled": true
   },
   "outputs": [],
   "source": [
    "# lets read the dataset\n",
    "data = pd.read_csv('movie_metadata.csv')"
   ]
  },
  {
   "cell_type": "code",
   "execution_count": 27,
   "metadata": {},
   "outputs": [
    {
     "name": "stdout",
     "output_type": "stream",
     "text": [
      "(5043, 28)\n"
     ]
    }
   ],
   "source": [
    "# lets check the shape\n",
    "print(data.shape)"
   ]
  },
  {
   "cell_type": "code",
   "execution_count": 28,
   "metadata": {},
   "outputs": [
    {
     "name": "stdout",
     "output_type": "stream",
     "text": [
      "<class 'pandas.core.frame.DataFrame'>\n",
      "RangeIndex: 5043 entries, 0 to 5042\n",
      "Data columns (total 28 columns):\n",
      " #   Column                     Non-Null Count  Dtype  \n",
      "---  ------                     --------------  -----  \n",
      " 0   color                      5024 non-null   object \n",
      " 1   director_name              4939 non-null   object \n",
      " 2   num_critic_for_reviews     4993 non-null   float64\n",
      " 3   duration                   5028 non-null   float64\n",
      " 4   director_facebook_likes    4939 non-null   float64\n",
      " 5   actor_3_facebook_likes     5020 non-null   float64\n",
      " 6   actor_2_name               5030 non-null   object \n",
      " 7   actor_1_facebook_likes     5036 non-null   float64\n",
      " 8   gross                      4159 non-null   float64\n",
      " 9   genres                     5043 non-null   object \n",
      " 10  actor_1_name               5036 non-null   object \n",
      " 11  movie_title                5043 non-null   object \n",
      " 12  num_voted_users            5043 non-null   int64  \n",
      " 13  cast_total_facebook_likes  5043 non-null   int64  \n",
      " 14  actor_3_name               5020 non-null   object \n",
      " 15  facenumber_in_poster       5030 non-null   float64\n",
      " 16  plot_keywords              4890 non-null   object \n",
      " 17  movie_imdb_link            5043 non-null   object \n",
      " 18  num_user_for_reviews       5022 non-null   float64\n",
      " 19  language                   5031 non-null   object \n",
      " 20  country                    5038 non-null   object \n",
      " 21  content_rating             4740 non-null   object \n",
      " 22  budget                     4551 non-null   float64\n",
      " 23  title_year                 4935 non-null   float64\n",
      " 24  actor_2_facebook_likes     5030 non-null   float64\n",
      " 25  imdb_score                 5043 non-null   float64\n",
      " 26  aspect_ratio               4714 non-null   float64\n",
      " 27  movie_facebook_likes       5043 non-null   int64  \n",
      "dtypes: float64(13), int64(3), object(12)\n",
      "memory usage: 1.1+ MB\n"
     ]
    }
   ],
   "source": [
    "# lets check the column wise info\n",
    "\n",
    "data.info()"
   ]
  },
  {
   "cell_type": "code",
   "execution_count": 29,
   "metadata": {},
   "outputs": [
    {
     "data": {
      "text/plain": [
       "Index(['director_name', 'num_critic_for_reviews', 'duration', 'actor_2_name',\n",
       "       'gross', 'genres', 'actor_1_name', 'movie_title', 'num_voted_users',\n",
       "       'actor_3_name', 'num_user_for_reviews', 'language', 'budget',\n",
       "       'title_year', 'imdb_score', 'movie_facebook_likes'],\n",
       "      dtype='object')"
      ]
     },
     "execution_count": 29,
     "metadata": {},
     "output_type": "execute_result"
    }
   ],
   "source": [
    "# lets remove unnecassary columns from the dataset\n",
    "\n",
    "# Use the 'drop()' function to drop the unnecessary columns\n",
    "\n",
    "data = data.drop(['color', \n",
    "                      'director_facebook_likes', \n",
    "                      'actor_3_facebook_likes', \n",
    "                      'actor_1_facebook_likes', \n",
    "                      'cast_total_facebook_likes', \n",
    "                      'actor_2_facebook_likes',  \n",
    "                      'facenumber_in_poster', \n",
    "                      'content_rating', \n",
    "                      'country', \n",
    "                      'movie_imdb_link', \n",
    "                      'aspect_ratio',\n",
    "                      'plot_keywords',\n",
    "                      ], \n",
    "                       axis = 1)\n",
    "data.columns"
   ]
  },
  {
   "cell_type": "markdown",
   "metadata": {},
   "source": [
    "## Missing Values Imputation"
   ]
  },
  {
   "cell_type": "code",
   "execution_count": 30,
   "metadata": {},
   "outputs": [
    {
     "data": {
      "text/plain": [
       "director_name              2.06\n",
       "num_critic_for_reviews     0.99\n",
       "duration                   0.30\n",
       "actor_2_name               0.26\n",
       "gross                     17.53\n",
       "genres                     0.00\n",
       "actor_1_name               0.14\n",
       "movie_title                0.00\n",
       "num_voted_users            0.00\n",
       "actor_3_name               0.46\n",
       "num_user_for_reviews       0.42\n",
       "language                   0.24\n",
       "budget                     9.76\n",
       "title_year                 2.14\n",
       "imdb_score                 0.00\n",
       "movie_facebook_likes       0.00\n",
       "dtype: float64"
      ]
     },
     "execution_count": 30,
     "metadata": {},
     "output_type": "execute_result"
    }
   ],
   "source": [
    "# lets check the rows having high percentage of missing values in the dataset\n",
    "\n",
    "round(100*(data.isnull().sum()/len(data.index)), 2)"
   ]
  },
  {
   "cell_type": "code",
   "execution_count": 31,
   "metadata": {},
   "outputs": [
    {
     "data": {
      "text/plain": [
       "director_name              0\n",
       "num_critic_for_reviews     1\n",
       "duration                   1\n",
       "actor_2_name               5\n",
       "gross                      0\n",
       "genres                     0\n",
       "actor_1_name               3\n",
       "movie_title                0\n",
       "num_voted_users            0\n",
       "actor_3_name              10\n",
       "num_user_for_reviews       0\n",
       "language                   3\n",
       "budget                     0\n",
       "title_year                 0\n",
       "imdb_score                 0\n",
       "movie_facebook_likes       0\n",
       "dtype: int64"
      ]
     },
     "execution_count": 31,
     "metadata": {},
     "output_type": "execute_result"
    }
   ],
   "source": [
    "# Since 'gross' and 'budget' columns have large number of NaN values, drop all the rows with NaNs at this column using the\n",
    "# 'isnan' function of NumPy alongwith a negation '~'\n",
    "\n",
    "data = data[~np.isnan(data['gross'])]\n",
    "data = data[~np.isnan(data['budget'])]\n",
    "\n",
    "# we have to remove all the rows where the leading actor's name is missing.\n",
    "#data = data[~np.isnan(data['actor_1_name'])]\n",
    "\n",
    "# Now lets again check the Missing Values column wise\n",
    "data.isnull().sum()"
   ]
  },
  {
   "cell_type": "code",
   "execution_count": 32,
   "metadata": {},
   "outputs": [
    {
     "data": {
      "text/plain": [
       "director_name             0\n",
       "num_critic_for_reviews    1\n",
       "duration                  1\n",
       "actor_2_name              2\n",
       "gross                     0\n",
       "genres                    0\n",
       "actor_1_name              0\n",
       "movie_title               0\n",
       "num_voted_users           0\n",
       "actor_3_name              7\n",
       "num_user_for_reviews      0\n",
       "language                  3\n",
       "budget                    0\n",
       "title_year                0\n",
       "imdb_score                0\n",
       "movie_facebook_likes      0\n",
       "dtype: int64"
      ]
     },
     "execution_count": 32,
     "metadata": {},
     "output_type": "execute_result"
    }
   ],
   "source": [
    "# The rows for which the sum of Null is less than two are retained\n",
    "\n",
    "data = data[data.isnull().sum(axis=1) <= 2]\n",
    "data.isnull().sum()"
   ]
  },
  {
   "cell_type": "code",
   "execution_count": 33,
   "metadata": {},
   "outputs": [
    {
     "data": {
      "text/plain": [
       "0"
      ]
     },
     "execution_count": 33,
     "metadata": {},
     "output_type": "execute_result"
    }
   ],
   "source": [
    "# lets impute the missing values\n",
    "\n",
    "# using mean for numerical columns\n",
    "data['num_critic_for_reviews'].fillna(data['num_critic_for_reviews'].mean(), inplace = True)\n",
    "data['duration'].fillna(data['duration'].mean(), inplace = True)\n",
    "\n",
    "# using mode for categorical column\n",
    "data['language'].fillna(data['language'].mode()[0], inplace = True)\n",
    "\n",
    "# As we know that We cannot use statistical values for imputing the missing values of actor names, so we will replace the \n",
    "# actor names with \"Unknown Actor\"\n",
    "\n",
    "data['actor_2_name'].fillna('Unknown Actor', inplace = True)\n",
    "data['actor_3_name'].fillna('Unknown Actor', inplace = True)\n",
    "\n",
    "# as we imputed all the missing values lets check the no. of total missing values in the dataset\n",
    "data.isnull().sum().sum()"
   ]
  },
  {
   "cell_type": "markdown",
   "metadata": {},
   "source": [
    "## Feature Engineering"
   ]
  },
  {
   "cell_type": "code",
   "execution_count": 34,
   "metadata": {},
   "outputs": [],
   "source": [
    "# Lets convert the gross and budget from $ to Million $ to make our analysis easier\n",
    "\n",
    "data['gross'] = data['gross']/1000000\n",
    "data['budget'] = data['budget']/1000000"
   ]
  },
  {
   "cell_type": "code",
   "execution_count": 35,
   "metadata": {},
   "outputs": [
    {
     "data": {
      "text/html": [
       "<div>\n",
       "<style scoped>\n",
       "    .dataframe tbody tr th:only-of-type {\n",
       "        vertical-align: middle;\n",
       "    }\n",
       "\n",
       "    .dataframe tbody tr th {\n",
       "        vertical-align: top;\n",
       "    }\n",
       "\n",
       "    .dataframe thead th {\n",
       "        text-align: right;\n",
       "    }\n",
       "</style>\n",
       "<table border=\"1\" class=\"dataframe\">\n",
       "  <thead>\n",
       "    <tr style=\"text-align: right;\">\n",
       "      <th></th>\n",
       "      <th>Profit</th>\n",
       "      <th>movie_title</th>\n",
       "    </tr>\n",
       "  </thead>\n",
       "  <tbody>\n",
       "    <tr>\n",
       "      <th>0</th>\n",
       "      <td>523.505847</td>\n",
       "      <td>Avatar</td>\n",
       "    </tr>\n",
       "    <tr>\n",
       "      <th>29</th>\n",
       "      <td>502.177271</td>\n",
       "      <td>Jurassic World</td>\n",
       "    </tr>\n",
       "    <tr>\n",
       "      <th>26</th>\n",
       "      <td>458.672302</td>\n",
       "      <td>Titanic</td>\n",
       "    </tr>\n",
       "    <tr>\n",
       "      <th>3024</th>\n",
       "      <td>449.935665</td>\n",
       "      <td>Star Wars: Episode IV - A New Hope</td>\n",
       "    </tr>\n",
       "    <tr>\n",
       "      <th>3080</th>\n",
       "      <td>424.449459</td>\n",
       "      <td>E.T. the Extra-Terrestrial</td>\n",
       "    </tr>\n",
       "    <tr>\n",
       "      <th>794</th>\n",
       "      <td>403.279547</td>\n",
       "      <td>The Avengers</td>\n",
       "    </tr>\n",
       "    <tr>\n",
       "      <th>17</th>\n",
       "      <td>403.279547</td>\n",
       "      <td>The Avengers</td>\n",
       "    </tr>\n",
       "    <tr>\n",
       "      <th>509</th>\n",
       "      <td>377.783777</td>\n",
       "      <td>The Lion King</td>\n",
       "    </tr>\n",
       "    <tr>\n",
       "      <th>240</th>\n",
       "      <td>359.544677</td>\n",
       "      <td>Star Wars: Episode I - The Phantom Menace</td>\n",
       "    </tr>\n",
       "    <tr>\n",
       "      <th>66</th>\n",
       "      <td>348.316061</td>\n",
       "      <td>The Dark Knight</td>\n",
       "    </tr>\n",
       "  </tbody>\n",
       "</table>\n",
       "</div>"
      ],
      "text/plain": [
       "          Profit                                 movie_title\n",
       "0     523.505847                                     Avatar \n",
       "29    502.177271                             Jurassic World \n",
       "26    458.672302                                    Titanic \n",
       "3024  449.935665         Star Wars: Episode IV - A New Hope \n",
       "3080  424.449459                 E.T. the Extra-Terrestrial \n",
       "794   403.279547                               The Avengers \n",
       "17    403.279547                               The Avengers \n",
       "509   377.783777                              The Lion King \n",
       "240   359.544677  Star Wars: Episode I - The Phantom Menace \n",
       "66    348.316061                            The Dark Knight "
      ]
     },
     "execution_count": 35,
     "metadata": {},
     "output_type": "execute_result"
    }
   ],
   "source": [
    "# lets create a Profit column using the Budget and Gross\n",
    "\n",
    "data['Profit'] = data['gross'] - data['budget']\n",
    "\n",
    "# lets also check the name of Top 10 Profitable Movies\n",
    "data[['Profit','movie_title']].sort_values(by = 'Profit', ascending  = False).head(10)"
   ]
  },
  {
   "cell_type": "code",
   "execution_count": 36,
   "metadata": {},
   "outputs": [
    {
     "name": "stdout",
     "output_type": "stream",
     "text": [
      "No. of Rows Before Removing Duplicates:  3888\n",
      "No. of Rows After Removing Duplicates:  3853\n"
     ]
    }
   ],
   "source": [
    "# By looking at the above result we can easily analyze that there are some duplicate\n",
    "\n",
    "# lets print the no. of rows before removing Duplicates\n",
    "print(\"No. of Rows Before Removing Duplicates: \",data.shape[0])\n",
    "\n",
    "# so lets remove all the duplicates from the data\n",
    "data.drop_duplicates(subset = None, keep = 'first', inplace = True)\n",
    "\n",
    "# lets print the no. of rows after removing Duplicates\n",
    "print(\"No. of Rows After Removing Duplicates: \",data.shape[0])"
   ]
  },
  {
   "cell_type": "code",
   "execution_count": 37,
   "metadata": {},
   "outputs": [
    {
     "data": {
      "text/html": [
       "<div>\n",
       "<style scoped>\n",
       "    .dataframe tbody tr th:only-of-type {\n",
       "        vertical-align: middle;\n",
       "    }\n",
       "\n",
       "    .dataframe tbody tr th {\n",
       "        vertical-align: top;\n",
       "    }\n",
       "\n",
       "    .dataframe thead th {\n",
       "        text-align: right;\n",
       "    }\n",
       "</style>\n",
       "<table border=\"1\" class=\"dataframe\">\n",
       "  <thead>\n",
       "    <tr style=\"text-align: right;\">\n",
       "      <th></th>\n",
       "      <th>movie_title</th>\n",
       "      <th>Profit</th>\n",
       "    </tr>\n",
       "  </thead>\n",
       "  <tbody>\n",
       "    <tr>\n",
       "      <th>0</th>\n",
       "      <td>Avatar</td>\n",
       "      <td>523.505847</td>\n",
       "    </tr>\n",
       "    <tr>\n",
       "      <th>29</th>\n",
       "      <td>Jurassic World</td>\n",
       "      <td>502.177271</td>\n",
       "    </tr>\n",
       "    <tr>\n",
       "      <th>26</th>\n",
       "      <td>Titanic</td>\n",
       "      <td>458.672302</td>\n",
       "    </tr>\n",
       "    <tr>\n",
       "      <th>3024</th>\n",
       "      <td>Star Wars: Episode IV - A New Hope</td>\n",
       "      <td>449.935665</td>\n",
       "    </tr>\n",
       "    <tr>\n",
       "      <th>3080</th>\n",
       "      <td>E.T. the Extra-Terrestrial</td>\n",
       "      <td>424.449459</td>\n",
       "    </tr>\n",
       "    <tr>\n",
       "      <th>17</th>\n",
       "      <td>The Avengers</td>\n",
       "      <td>403.279547</td>\n",
       "    </tr>\n",
       "    <tr>\n",
       "      <th>509</th>\n",
       "      <td>The Lion King</td>\n",
       "      <td>377.783777</td>\n",
       "    </tr>\n",
       "    <tr>\n",
       "      <th>240</th>\n",
       "      <td>Star Wars: Episode I - The Phantom Menace</td>\n",
       "      <td>359.544677</td>\n",
       "    </tr>\n",
       "    <tr>\n",
       "      <th>66</th>\n",
       "      <td>The Dark Knight</td>\n",
       "      <td>348.316061</td>\n",
       "    </tr>\n",
       "    <tr>\n",
       "      <th>439</th>\n",
       "      <td>The Hunger Games</td>\n",
       "      <td>329.999255</td>\n",
       "    </tr>\n",
       "  </tbody>\n",
       "</table>\n",
       "</div>"
      ],
      "text/plain": [
       "                                     movie_title      Profit\n",
       "0                                        Avatar   523.505847\n",
       "29                               Jurassic World   502.177271\n",
       "26                                      Titanic   458.672302\n",
       "3024         Star Wars: Episode IV - A New Hope   449.935665\n",
       "3080                 E.T. the Extra-Terrestrial   424.449459\n",
       "17                                 The Avengers   403.279547\n",
       "509                               The Lion King   377.783777\n",
       "240   Star Wars: Episode I - The Phantom Menace   359.544677\n",
       "66                              The Dark Knight   348.316061\n",
       "439                            The Hunger Games   329.999255"
      ]
     },
     "execution_count": 37,
     "metadata": {},
     "output_type": "execute_result"
    }
   ],
   "source": [
    "# Lets check the Top 10 Profitable Movies Again\n",
    "\n",
    "data[['movie_title','Profit']].sort_values(by = 'Profit', ascending  = False).head(10)"
   ]
  },
  {
   "cell_type": "code",
   "execution_count": 38,
   "metadata": {},
   "outputs": [
    {
     "data": {
      "text/plain": [
       "English       3673\n",
       "French          37\n",
       "Spanish         26\n",
       "Mandarin        14\n",
       "German          13\n",
       "Japanese        12\n",
       "Hindi           10\n",
       "Cantonese        8\n",
       "Italian          7\n",
       "Portuguese       5\n",
       "Korean           5\n",
       "Norwegian        4\n",
       "Dutch            3\n",
       "Persian          3\n",
       "Thai             3\n",
       "Hebrew           3\n",
       "Danish           3\n",
       "Aboriginal       2\n",
       "Dari             2\n",
       "Indonesian       2\n",
       "Russian          1\n",
       "Romanian         1\n",
       "Vietnamese       1\n",
       "Arabic           1\n",
       "Dzongkha         1\n",
       "Zulu             1\n",
       "None             1\n",
       "Aramaic          1\n",
       "Czech            1\n",
       "Telugu           1\n",
       "Icelandic        1\n",
       "Filipino         1\n",
       "Hungarian        1\n",
       "Maya             1\n",
       "Bosnian          1\n",
       "Mongolian        1\n",
       "Kazakh           1\n",
       "Swedish          1\n",
       "Name: language, dtype: int64"
      ]
     },
     "execution_count": 38,
     "metadata": {},
     "output_type": "execute_result"
    }
   ],
   "source": [
    "# lets check the values in the language column\n",
    "data['language'].value_counts()"
   ]
  },
  {
   "cell_type": "code",
   "execution_count": 39,
   "metadata": {},
   "outputs": [
    {
     "data": {
      "text/plain": [
       "English    3673\n",
       "Foreign     180\n",
       "Name: language, dtype: int64"
      ]
     },
     "execution_count": 39,
     "metadata": {},
     "output_type": "execute_result"
    }
   ],
   "source": [
    "# Looking at the above output we can easily observe that out of 3,500 movies only 150 movies are of other languages\n",
    "\n",
    "# so it is better to keep only two languages that is English and Foreign\n",
    "def language(x):\n",
    "    if x == 'English':\n",
    "        return 'English'\n",
    "    else:\n",
    "        return 'Foreign'\n",
    "\n",
    "# lets apply the function on the language column\n",
    "data['language'] = data['language'].apply(language)\n",
    "\n",
    "# lets check the values again\n",
    "data['language'].value_counts()"
   ]
  },
  {
   "cell_type": "code",
   "execution_count": 47,
   "metadata": {},
   "outputs": [
    {
     "name": "stdout",
     "output_type": "stream",
     "text": [
      "         director_name  num_critic_for_reviews  duration        actor_2_name  \\\n",
      "5033     Shane Carruth                   143.0      77.0      David Sullivan   \n",
      "5034  Neill Dela Llana                    35.0      80.0     Edgar Tancangco   \n",
      "5035  Robert Rodriguez                    56.0      81.0     Peter Marquardt   \n",
      "5037      Edward Burns                    14.0      95.0  Caitlin FitzGerald   \n",
      "5042          Jon Gunn                    43.0      90.0    Brian Herzlinger   \n",
      "\n",
      "         gross                               genres     actor_1_name  \\\n",
      "5033  0.424760                Drama|Sci-Fi|Thriller    Shane Carruth   \n",
      "5034  0.070071                             Thriller      Ian Gamazon   \n",
      "5035  2.040920  Action|Crime|Drama|Romance|Thriller  Carlos Gallardo   \n",
      "5037  0.004584                         Comedy|Drama      Kerry Bishé   \n",
      "5042  0.085222                          Documentary      John August   \n",
      "\n",
      "             movie_title  num_voted_users     actor_3_name  \\\n",
      "5033             Primer             72639     Casey Gooden   \n",
      "5034             Cavite               589        Quynn Ton   \n",
      "5035        El Mariachi             52055   Consuelo Gómez   \n",
      "5037          Newlyweds              1338  Daniella Pineda   \n",
      "5042  My Date with Drew              4285         Jon Gunn   \n",
      "\n",
      "      num_user_for_reviews language  budget  title_year  imdb_score  \\\n",
      "5033                 371.0  English  0.0070      2004.0         7.0   \n",
      "5034                  35.0  English  0.0070      2005.0         6.3   \n",
      "5035                 130.0  Foreign  0.0070      1992.0         6.9   \n",
      "5037                  14.0  English  0.0090      2011.0         6.4   \n",
      "5042                  84.0  English  0.0011      2004.0         6.6   \n",
      "\n",
      "      movie_facebook_likes    Profit  \n",
      "5033                 19000  0.417760  \n",
      "5034                    74  0.063071  \n",
      "5035                     0  2.033920  \n",
      "5037                   413 -0.004416  \n",
      "5042                   456  0.084122  \n"
     ]
    }
   ],
   "source": [
    "print(data.tail())"
   ]
  },
  {
   "cell_type": "code",
   "execution_count": 46,
   "metadata": {},
   "outputs": [
    {
     "name": "stdout",
     "output_type": "stream",
     "text": [
      "0        True\n",
      "1        True\n",
      "2        True\n",
      "3        True\n",
      "5        True\n",
      "        ...  \n",
      "5033     True\n",
      "5034     True\n",
      "5035    False\n",
      "5037     True\n",
      "5042     True\n",
      "Name: language, Length: 3853, dtype: bool\n"
     ]
    }
   ],
   "source": [
    "print(data['language']=='English')"
   ]
  },
  {
   "cell_type": "code",
   "execution_count": 48,
   "metadata": {},
   "outputs": [
    {
     "data": {
      "text/plain": [
       "Short    2936\n",
       "Long      917\n",
       "Name: duration, dtype: int64"
      ]
     },
     "execution_count": 48,
     "metadata": {},
     "output_type": "execute_result"
    }
   ],
   "source": [
    "# The Duration of Movies is not varying a lot but we know that most of the users either like watching long movies or short \n",
    "# duration movies. we can categorize the movies in two part i.e., short and long.\n",
    "\n",
    "# lets define a function for categorizing Duration of Movies\n",
    "def duration(x):\n",
    "    if x <= 120:\n",
    "        return 'Short'\n",
    "    else:\n",
    "        return 'Long'\n",
    "    \n",
    "# lets apply this function on the duration column\n",
    "data['duration'] = data['duration'].apply(duration)\n",
    "\n",
    "# lets check the values of Duration column\n",
    "data['duration'].value_counts()"
   ]
  },
  {
   "cell_type": "code",
   "execution_count": 49,
   "metadata": {},
   "outputs": [
    {
     "name": "stdout",
     "output_type": "stream",
     "text": [
      "          director_name  num_critic_for_reviews duration        actor_2_name  \\\n",
      "0         James Cameron                   723.0     Long    Joel David Moore   \n",
      "1        Gore Verbinski                   302.0     Long       Orlando Bloom   \n",
      "2            Sam Mendes                   602.0     Long        Rory Kinnear   \n",
      "3     Christopher Nolan                   813.0     Long      Christian Bale   \n",
      "5        Andrew Stanton                   462.0     Long     Samantha Morton   \n",
      "...                 ...                     ...      ...                 ...   \n",
      "5033      Shane Carruth                   143.0    Short      David Sullivan   \n",
      "5034   Neill Dela Llana                    35.0    Short     Edgar Tancangco   \n",
      "5035   Robert Rodriguez                    56.0    Short     Peter Marquardt   \n",
      "5037       Edward Burns                    14.0    Short  Caitlin FitzGerald   \n",
      "5042           Jon Gunn                    43.0    Short    Brian Herzlinger   \n",
      "\n",
      "           gross                               genres     actor_1_name  \\\n",
      "0     760.505847      Action|Adventure|Fantasy|Sci-Fi      CCH Pounder   \n",
      "1     309.404152             Action|Adventure|Fantasy      Johnny Depp   \n",
      "2     200.074175            Action|Adventure|Thriller  Christoph Waltz   \n",
      "3     448.130642                      Action|Thriller        Tom Hardy   \n",
      "5      73.058679              Action|Adventure|Sci-Fi     Daryl Sabara   \n",
      "...          ...                                  ...              ...   \n",
      "5033    0.424760                Drama|Sci-Fi|Thriller    Shane Carruth   \n",
      "5034    0.070071                             Thriller      Ian Gamazon   \n",
      "5035    2.040920  Action|Crime|Drama|Romance|Thriller  Carlos Gallardo   \n",
      "5037    0.004584                         Comedy|Drama      Kerry Bishé   \n",
      "5042    0.085222                          Documentary      John August   \n",
      "\n",
      "                                    movie_title  num_voted_users  \\\n",
      "0                                       Avatar            886204   \n",
      "1     Pirates of the Caribbean: At World's End            471220   \n",
      "2                                      Spectre            275868   \n",
      "3                        The Dark Knight Rises           1144337   \n",
      "5                                  John Carter            212204   \n",
      "...                                         ...              ...   \n",
      "5033                                    Primer             72639   \n",
      "5034                                    Cavite               589   \n",
      "5035                               El Mariachi             52055   \n",
      "5037                                 Newlyweds              1338   \n",
      "5042                         My Date with Drew              4285   \n",
      "\n",
      "              actor_3_name  num_user_for_reviews language    budget  \\\n",
      "0                Wes Studi                3054.0  English  237.0000   \n",
      "1           Jack Davenport                1238.0  English  300.0000   \n",
      "2         Stephanie Sigman                 994.0  English  245.0000   \n",
      "3     Joseph Gordon-Levitt                2701.0  English  250.0000   \n",
      "5             Polly Walker                 738.0  English  263.7000   \n",
      "...                    ...                   ...      ...       ...   \n",
      "5033          Casey Gooden                 371.0  English    0.0070   \n",
      "5034             Quynn Ton                  35.0  English    0.0070   \n",
      "5035        Consuelo Gómez                 130.0  Foreign    0.0070   \n",
      "5037       Daniella Pineda                  14.0  English    0.0090   \n",
      "5042              Jon Gunn                  84.0  English    0.0011   \n",
      "\n",
      "      title_year  imdb_score  movie_facebook_likes      Profit  \n",
      "0         2009.0         7.9                 33000  523.505847  \n",
      "1         2007.0         7.1                     0    9.404152  \n",
      "2         2015.0         6.8                 85000  -44.925825  \n",
      "3         2012.0         8.5                164000  198.130642  \n",
      "5         2012.0         6.6                 24000 -190.641321  \n",
      "...          ...         ...                   ...         ...  \n",
      "5033      2004.0         7.0                 19000    0.417760  \n",
      "5034      2005.0         6.3                    74    0.063071  \n",
      "5035      1992.0         6.9                     0    2.033920  \n",
      "5037      2011.0         6.4                   413   -0.004416  \n",
      "5042      2004.0         6.6                   456    0.084122  \n",
      "\n",
      "[3853 rows x 17 columns]\n"
     ]
    }
   ],
   "source": [
    "print(data)"
   ]
  },
  {
   "cell_type": "code",
   "execution_count": 18,
   "metadata": {},
   "outputs": [
    {
     "data": {
      "text/plain": [
       "Drama                                     153\n",
       "Comedy|Drama|Romance                      151\n",
       "Comedy|Drama                              147\n",
       "Comedy                                    145\n",
       "Comedy|Romance                            135\n",
       "                                         ... \n",
       "Action|Crime|Drama|Thriller|War             1\n",
       "Adventure|Comedy|Family|Musical             1\n",
       "Action|Adventure|Family|Fantasy|Sci-Fi      1\n",
       "Action|Drama|Mystery|Thriller|War           1\n",
       "Comedy|Crime|Horror                         1\n",
       "Name: genres, Length: 762, dtype: int64"
      ]
     },
     "execution_count": 18,
     "metadata": {},
     "output_type": "execute_result"
    }
   ],
   "source": [
    "# lets also check the values in the Genres Column\n",
    "\n",
    "data['genres'].value_counts()"
   ]
  },
  {
   "cell_type": "code",
   "execution_count": 19,
   "metadata": {},
   "outputs": [
    {
     "data": {
      "text/plain": [
       "['Action', 'Adventure', 'Fantasy', 'Sci-Fi']"
      ]
     },
     "execution_count": 19,
     "metadata": {},
     "output_type": "execute_result"
    }
   ],
   "source": [
    "data['genres'].str.split('|')[0]"
   ]
  },
  {
   "cell_type": "code",
   "execution_count": 20,
   "metadata": {},
   "outputs": [
    {
     "data": {
      "text/html": [
       "<div>\n",
       "<style scoped>\n",
       "    .dataframe tbody tr th:only-of-type {\n",
       "        vertical-align: middle;\n",
       "    }\n",
       "\n",
       "    .dataframe tbody tr th {\n",
       "        vertical-align: top;\n",
       "    }\n",
       "\n",
       "    .dataframe thead th {\n",
       "        text-align: right;\n",
       "    }\n",
       "</style>\n",
       "<table border=\"1\" class=\"dataframe\">\n",
       "  <thead>\n",
       "    <tr style=\"text-align: right;\">\n",
       "      <th></th>\n",
       "      <th>genres</th>\n",
       "      <th>Genre1</th>\n",
       "      <th>Genre2</th>\n",
       "      <th>Genre3</th>\n",
       "      <th>Genre4</th>\n",
       "    </tr>\n",
       "  </thead>\n",
       "  <tbody>\n",
       "    <tr>\n",
       "      <th>0</th>\n",
       "      <td>Action|Adventure|Fantasy|Sci-Fi</td>\n",
       "      <td>Action</td>\n",
       "      <td>Adventure</td>\n",
       "      <td>Fantasy</td>\n",
       "      <td>Sci-Fi</td>\n",
       "    </tr>\n",
       "    <tr>\n",
       "      <th>1</th>\n",
       "      <td>Action|Adventure|Fantasy</td>\n",
       "      <td>Action</td>\n",
       "      <td>Adventure</td>\n",
       "      <td>Fantasy</td>\n",
       "      <td>Action</td>\n",
       "    </tr>\n",
       "    <tr>\n",
       "      <th>2</th>\n",
       "      <td>Action|Adventure|Thriller</td>\n",
       "      <td>Action</td>\n",
       "      <td>Adventure</td>\n",
       "      <td>Thriller</td>\n",
       "      <td>Action</td>\n",
       "    </tr>\n",
       "    <tr>\n",
       "      <th>3</th>\n",
       "      <td>Action|Thriller</td>\n",
       "      <td>Action</td>\n",
       "      <td>Thriller</td>\n",
       "      <td>Action</td>\n",
       "      <td>Action</td>\n",
       "    </tr>\n",
       "    <tr>\n",
       "      <th>5</th>\n",
       "      <td>Action|Adventure|Sci-Fi</td>\n",
       "      <td>Action</td>\n",
       "      <td>Adventure</td>\n",
       "      <td>Sci-Fi</td>\n",
       "      <td>Action</td>\n",
       "    </tr>\n",
       "  </tbody>\n",
       "</table>\n",
       "</div>"
      ],
      "text/plain": [
       "                            genres  Genre1     Genre2    Genre3  Genre4\n",
       "0  Action|Adventure|Fantasy|Sci-Fi  Action  Adventure   Fantasy  Sci-Fi\n",
       "1         Action|Adventure|Fantasy  Action  Adventure   Fantasy  Action\n",
       "2        Action|Adventure|Thriller  Action  Adventure  Thriller  Action\n",
       "3                  Action|Thriller  Action   Thriller    Action  Action\n",
       "5          Action|Adventure|Sci-Fi  Action  Adventure    Sci-Fi  Action"
      ]
     },
     "execution_count": 20,
     "metadata": {},
     "output_type": "execute_result"
    }
   ],
   "source": [
    "# we can see from the above output that most of the movies are having a lot of genres\n",
    "# also, a movie can have so many genres so lets keep four genres\n",
    "\n",
    "data['Moviegenres'] = data['genres'].str.split('|')\n",
    "data['Genre1'] = data['Moviegenres'].apply(lambda x: x[0])\n",
    "\n",
    "# Some of the movies have only one genre. In such cases, assign the same genre to 'genre_2' as well\n",
    "data['Genre2'] = data['Moviegenres'].apply(lambda x: x[1] if len(x) > 1 else x[0])\n",
    "data['Genre3'] = data['Moviegenres'].apply(lambda x: x[2] if len(x) > 2 else x[0])\n",
    "data['Genre4'] = data['Moviegenres'].apply(lambda x: x[3] if len(x) > 3 else x[0])\n",
    "\n",
    "# lets check the head of the  data\n",
    "data[['genres','Genre1','Genre2','Genre3','Genre4']].head(5)"
   ]
  },
  {
   "cell_type": "markdown",
   "metadata": {},
   "source": [
    "## Data Visualization"
   ]
  },
  {
   "cell_type": "code",
   "execution_count": 21,
   "metadata": {},
   "outputs": [
    {
     "name": "stdout",
     "output_type": "stream",
     "text": [
      "   index                          movie_title  Social_Media_Popularity\n",
      "0     10  Batman v Superman: Dawn of Justice               1599.794424\n",
      "1    150                        Ghostbusters               1076.336425\n",
      "2   1582                        Ghostbusters               1075.827482\n",
      "3     96                        Interstellar               1024.560802\n",
      "4   3015               10 Days in a Madhouse                828.025478\n",
      "5    945                      Into the Woods                692.937200\n",
      "6     73                       Suicide Squad                652.816996\n",
      "7   1190                Fifty Shades of Grey                624.306881\n",
      "8    108                            Warcraft                622.790277\n",
      "9     92        Independence Day: Resurgence                599.274128\n"
     ]
    },
    {
     "data": {
      "image/png": "[encoded data removed]",
      "text/plain": [
       "<Figure size 1152x576 with 1 Axes>"
      ]
     },
     "metadata": {},
     "output_type": "display_data"
    }
   ],
   "source": [
    "# lets also calculate the Social Media Popularity of a Movie \n",
    "\n",
    "# to calculate popularity of a movie, we can aggregate No. of voted users, No. of Users for Reviews, and Facebook Likes.\n",
    "data['Social_Media_Popularity'] = (data['num_user_for_reviews']/\n",
    "                                   data['num_voted_users'])*data['movie_facebook_likes']\n",
    "\n",
    "# lets also check the Top 10 Most Popular Movies on Social Media\n",
    "x = data[['movie_title','Social_Media_Popularity']].sort_values(by = 'Social_Media_Popularity',\n",
    "                                                                ascending = False).head(10).reset_index()\n",
    "print(x)\n",
    "\n",
    "sns.barplot(x['movie_title'], x['Social_Media_Popularity'], palette = 'magma')\n",
    "plt.title('Top 10 Most Popular Movies on Social Media', fontsize = 20)\n",
    "plt.xticks(rotation = 90, fontsize = 14)\n",
    "plt.xlabel(' ')\n",
    "plt.show()"
   ]
  },
  {
   "cell_type": "code",
   "execution_count": 22,
   "metadata": {},
   "outputs": [
    {
     "data": {
      "text/html": [
       "<style type=\"text/css\">\n",
       "#T_621e4_row0_col0, #T_621e4_row8_col1, #T_621e4_row11_col2 {\n",
       "  background-color: #fc7f00;\n",
       "  color: #f1f1f1;\n",
       "}\n",
       "#T_621e4_row0_col1 {\n",
       "  background-color: #ffbb00;\n",
       "  color: #000000;\n",
       "}\n",
       "#T_621e4_row0_col2, #T_621e4_row1_col2, #T_621e4_row4_col2, #T_621e4_row5_col2, #T_621e4_row6_col2, #T_621e4_row7_col2, #T_621e4_row9_col2, #T_621e4_row10_col2, #T_621e4_row15_col0, #T_621e4_row15_col1, #T_621e4_row15_col2 {\n",
       "  background-color: #e4ff7a;\n",
       "  color: #000000;\n",
       "}\n",
       "#T_621e4_row1_col0, #T_621e4_row8_col0 {\n",
       "  background-color: #ffb500;\n",
       "  color: #000000;\n",
       "}\n",
       "#T_621e4_row1_col1 {\n",
       "  background-color: #ffb300;\n",
       "  color: #000000;\n",
       "}\n",
       "#T_621e4_row2_col0 {\n",
       "  background-color: #ffc002;\n",
       "  color: #000000;\n",
       "}\n",
       "#T_621e4_row2_col1 {\n",
       "  background-color: #ffb100;\n",
       "  color: #000000;\n",
       "}\n",
       "#T_621e4_row2_col2, #T_621e4_row13_col2 {\n",
       "  background-color: #e7fd71;\n",
       "  color: #000000;\n",
       "}\n",
       "#T_621e4_row3_col0 {\n",
       "  background-color: #ffd911;\n",
       "  color: #000000;\n",
       "}\n",
       "#T_621e4_row3_col1 {\n",
       "  background-color: #fee91d;\n",
       "  color: #000000;\n",
       "}\n",
       "#T_621e4_row3_col2, #T_621e4_row12_col2, #T_621e4_row14_col2 {\n",
       "  background-color: #e4ff78;\n",
       "  color: #000000;\n",
       "}\n",
       "#T_621e4_row4_col0 {\n",
       "  background-color: #ffc907;\n",
       "  color: #000000;\n",
       "}\n",
       "#T_621e4_row4_col1 {\n",
       "  background-color: #ffe81a;\n",
       "  color: #000000;\n",
       "}\n",
       "#T_621e4_row5_col0, #T_621e4_row11_col0 {\n",
       "  background-color: #fee91e;\n",
       "  color: #000000;\n",
       "}\n",
       "#T_621e4_row5_col1 {\n",
       "  background-color: #fbeb27;\n",
       "  color: #000000;\n",
       "}\n",
       "#T_621e4_row6_col0 {\n",
       "  background-color: #f5f13e;\n",
       "  color: #000000;\n",
       "}\n",
       "#T_621e4_row6_col1 {\n",
       "  background-color: #eef757;\n",
       "  color: #000000;\n",
       "}\n",
       "#T_621e4_row7_col0 {\n",
       "  background-color: #fe9100;\n",
       "  color: #000000;\n",
       "}\n",
       "#T_621e4_row7_col1 {\n",
       "  background-color: #faec2c;\n",
       "  color: #000000;\n",
       "}\n",
       "#T_621e4_row8_col2 {\n",
       "  background-color: #ff9f00;\n",
       "  color: #000000;\n",
       "}\n",
       "#T_621e4_row9_col0 {\n",
       "  background-color: #f2f348;\n",
       "  color: #000000;\n",
       "}\n",
       "#T_621e4_row9_col1 {\n",
       "  background-color: #ffe418;\n",
       "  color: #000000;\n",
       "}\n",
       "#T_621e4_row10_col0 {\n",
       "  background-color: #ffe518;\n",
       "  color: #000000;\n",
       "}\n",
       "#T_621e4_row10_col1 {\n",
       "  background-color: #fdea21;\n",
       "  color: #000000;\n",
       "}\n",
       "#T_621e4_row11_col1 {\n",
       "  background-color: #ffaf00;\n",
       "  color: #000000;\n",
       "}\n",
       "#T_621e4_row12_col0 {\n",
       "  background-color: #ffe216;\n",
       "  color: #000000;\n",
       "}\n",
       "#T_621e4_row12_col1 {\n",
       "  background-color: #ffdb12;\n",
       "  color: #000000;\n",
       "}\n",
       "#T_621e4_row13_col0 {\n",
       "  background-color: #edf75a;\n",
       "  color: #000000;\n",
       "}\n",
       "#T_621e4_row13_col1 {\n",
       "  background-color: #f3f245;\n",
       "  color: #000000;\n",
       "}\n",
       "#T_621e4_row14_col0 {\n",
       "  background-color: #eff653;\n",
       "  color: #000000;\n",
       "}\n",
       "#T_621e4_row14_col1 {\n",
       "  background-color: #f7ef38;\n",
       "  color: #000000;\n",
       "}\n",
       "#T_621e4_row16_col0 {\n",
       "  background-color: #eafa66;\n",
       "  color: #000000;\n",
       "}\n",
       "#T_621e4_row16_col1 {\n",
       "  background-color: #eff551;\n",
       "  color: #000000;\n",
       "}\n",
       "#T_621e4_row16_col2 {\n",
       "  background-color: #edf759;\n",
       "  color: #000000;\n",
       "}\n",
       "</style>\n",
       "<table id=\"T_621e4_\">\n",
       "  <thead>\n",
       "    <tr>\n",
       "      <th class=\"blank level0\" >&nbsp;</th>\n",
       "      <th class=\"col_heading level0 col0\" colspan=\"3\">gross</th>\n",
       "    </tr>\n",
       "    <tr>\n",
       "      <th class=\"blank level1\" >&nbsp;</th>\n",
       "      <th class=\"col_heading level1 col0\" >max</th>\n",
       "      <th class=\"col_heading level1 col1\" >mean</th>\n",
       "      <th class=\"col_heading level1 col2\" >min</th>\n",
       "    </tr>\n",
       "    <tr>\n",
       "      <th class=\"index_name level0\" >Genre1</th>\n",
       "      <th class=\"blank col0\" >&nbsp;</th>\n",
       "      <th class=\"blank col1\" >&nbsp;</th>\n",
       "      <th class=\"blank col2\" >&nbsp;</th>\n",
       "    </tr>\n",
       "  </thead>\n",
       "  <tbody>\n",
       "    <tr>\n",
       "      <th id=\"T_621e4_level0_row0\" class=\"row_heading level0 row0\" >Action</th>\n",
       "      <td id=\"T_621e4_row0_col0\" class=\"data row0 col0\" >760.505847</td>\n",
       "      <td id=\"T_621e4_row0_col1\" class=\"data row0 col1\" >76.584686</td>\n",
       "      <td id=\"T_621e4_row0_col2\" class=\"data row0 col2\" >0.000162</td>\n",
       "    </tr>\n",
       "    <tr>\n",
       "      <th id=\"T_621e4_level0_row1\" class=\"row_heading level0 row1\" >Adventure</th>\n",
       "      <td id=\"T_621e4_row1_col0\" class=\"data row1 col0\" >436.471036</td>\n",
       "      <td id=\"T_621e4_row1_col1\" class=\"data row1 col1\" >87.827145</td>\n",
       "      <td id=\"T_621e4_row1_col2\" class=\"data row1 col2\" >0.004091</td>\n",
       "    </tr>\n",
       "    <tr>\n",
       "      <th id=\"T_621e4_level0_row2\" class=\"row_heading level0 row2\" >Animation</th>\n",
       "      <td id=\"T_621e4_row2_col0\" class=\"data row2 col0\" >368.049635</td>\n",
       "      <td id=\"T_621e4_row2_col1\" class=\"data row2 col1\" >89.873480</td>\n",
       "      <td id=\"T_621e4_row2_col2\" class=\"data row2 col2\" >0.071442</td>\n",
       "    </tr>\n",
       "    <tr>\n",
       "      <th id=\"T_621e4_level0_row3\" class=\"row_heading level0 row3\" >Biography</th>\n",
       "      <td id=\"T_621e4_row3_col0\" class=\"data row3 col0\" >255.950375</td>\n",
       "      <td id=\"T_621e4_row3_col1\" class=\"data row3 col1\" >36.431983</td>\n",
       "      <td id=\"T_621e4_row3_col2\" class=\"data row3 col2\" >0.012836</td>\n",
       "    </tr>\n",
       "    <tr>\n",
       "      <th id=\"T_621e4_level0_row4\" class=\"row_heading level0 row4\" >Comedy</th>\n",
       "      <td id=\"T_621e4_row4_col0\" class=\"data row4 col0\" >329.691196</td>\n",
       "      <td id=\"T_621e4_row4_col1\" class=\"data row4 col1\" >37.611935</td>\n",
       "      <td id=\"T_621e4_row4_col2\" class=\"data row4 col2\" >0.000703</td>\n",
       "    </tr>\n",
       "    <tr>\n",
       "      <th id=\"T_621e4_level0_row5\" class=\"row_heading level0 row5\" >Crime</th>\n",
       "      <td id=\"T_621e4_row5_col0\" class=\"data row5 col0\" >183.405771</td>\n",
       "      <td id=\"T_621e4_row5_col1\" class=\"data row5 col1\" >32.223226</td>\n",
       "      <td id=\"T_621e4_row5_col2\" class=\"data row5 col2\" >0.001111</td>\n",
       "    </tr>\n",
       "    <tr>\n",
       "      <th id=\"T_621e4_level0_row6\" class=\"row_heading level0 row6\" >Documentary</th>\n",
       "      <td id=\"T_621e4_row6_col0\" class=\"data row6 col0\" >119.078393</td>\n",
       "      <td id=\"T_621e4_row6_col1\" class=\"data row6 col1\" >13.704278</td>\n",
       "      <td id=\"T_621e4_row6_col2\" class=\"data row6 col2\" >0.005858</td>\n",
       "    </tr>\n",
       "    <tr>\n",
       "      <th id=\"T_621e4_level0_row7\" class=\"row_heading level0 row7\" >Drama</th>\n",
       "      <td id=\"T_621e4_row7_col0\" class=\"data row7 col0\" >658.672302</td>\n",
       "      <td id=\"T_621e4_row7_col1\" class=\"data row7 col1\" >30.778967</td>\n",
       "      <td id=\"T_621e4_row7_col2\" class=\"data row7 col2\" >0.002580</td>\n",
       "    </tr>\n",
       "    <tr>\n",
       "      <th id=\"T_621e4_level0_row8\" class=\"row_heading level0 row8\" >Family</th>\n",
       "      <td id=\"T_621e4_row8_col0\" class=\"data row8 col0\" >434.949459</td>\n",
       "      <td id=\"T_621e4_row8_col1\" class=\"data row8 col1\" >149.160478</td>\n",
       "      <td id=\"T_621e4_row8_col2\" class=\"data row8 col2\" >2.119994</td>\n",
       "    </tr>\n",
       "    <tr>\n",
       "      <th id=\"T_621e4_level0_row9\" class=\"row_heading level0 row9\" >Fantasy</th>\n",
       "      <td id=\"T_621e4_row9_col0\" class=\"data row9 col0\" >100.614858</td>\n",
       "      <td id=\"T_621e4_row9_col1\" class=\"data row9 col1\" >40.483059</td>\n",
       "      <td id=\"T_621e4_row9_col2\" class=\"data row9 col2\" >0.003478</td>\n",
       "    </tr>\n",
       "    <tr>\n",
       "      <th id=\"T_621e4_level0_row10\" class=\"row_heading level0 row10\" >Horror</th>\n",
       "      <td id=\"T_621e4_row10_col0\" class=\"data row10 col0\" >204.565000</td>\n",
       "      <td id=\"T_621e4_row10_col1\" class=\"data row10 col1\" >34.737117</td>\n",
       "      <td id=\"T_621e4_row10_col2\" class=\"data row10 col2\" >0.005725</td>\n",
       "    </tr>\n",
       "    <tr>\n",
       "      <th id=\"T_621e4_level0_row11\" class=\"row_heading level0 row11\" >Musical</th>\n",
       "      <td id=\"T_621e4_row11_col0\" class=\"data row11 col0\" >181.360000</td>\n",
       "      <td id=\"T_621e4_row11_col1\" class=\"data row11 col1\" >92.084000</td>\n",
       "      <td id=\"T_621e4_row11_col2\" class=\"data row11 col2\" >2.808000</td>\n",
       "    </tr>\n",
       "    <tr>\n",
       "      <th id=\"T_621e4_level0_row12\" class=\"row_heading level0 row12\" >Mystery</th>\n",
       "      <td id=\"T_621e4_row12_col0\" class=\"data row12 col0\" >217.536138</td>\n",
       "      <td id=\"T_621e4_row12_col1\" class=\"data row12 col1\" >48.822296</td>\n",
       "      <td id=\"T_621e4_row12_col2\" class=\"data row12 col2\" >0.016066</td>\n",
       "    </tr>\n",
       "    <tr>\n",
       "      <th id=\"T_621e4_level0_row13\" class=\"row_heading level0 row13\" >Romance</th>\n",
       "      <td id=\"T_621e4_row13_col0\" class=\"data row13 col0\" >62.453315</td>\n",
       "      <td id=\"T_621e4_row13_col1\" class=\"data row13 col1\" >20.886339</td>\n",
       "      <td id=\"T_621e4_row13_col2\" class=\"data row13 col2\" >0.076382</td>\n",
       "    </tr>\n",
       "    <tr>\n",
       "      <th id=\"T_621e4_level0_row14\" class=\"row_heading level0 row14\" >Sci-Fi</th>\n",
       "      <td id=\"T_621e4_row14_col0\" class=\"data row14 col0\" >79.568000</td>\n",
       "      <td id=\"T_621e4_row14_col1\" class=\"data row14 col1\" >26.071841</td>\n",
       "      <td id=\"T_621e4_row14_col2\" class=\"data row14 col2\" >0.018195</td>\n",
       "    </tr>\n",
       "    <tr>\n",
       "      <th id=\"T_621e4_level0_row15\" class=\"row_heading level0 row15\" >Thriller</th>\n",
       "      <td id=\"T_621e4_row15_col0\" class=\"data row15 col0\" >0.070071</td>\n",
       "      <td id=\"T_621e4_row15_col1\" class=\"data row15 col1\" >0.040513</td>\n",
       "      <td id=\"T_621e4_row15_col2\" class=\"data row15 col2\" >0.002468</td>\n",
       "    </tr>\n",
       "    <tr>\n",
       "      <th id=\"T_621e4_level0_row16\" class=\"row_heading level0 row16\" >Western</th>\n",
       "      <td id=\"T_621e4_row16_col0\" class=\"data row16 col0\" >41.400000</td>\n",
       "      <td id=\"T_621e4_row16_col1\" class=\"data row16 col1\" >15.914589</td>\n",
       "      <td id=\"T_621e4_row16_col2\" class=\"data row16 col2\" >0.243768</td>\n",
       "    </tr>\n",
       "  </tbody>\n",
       "</table>\n"
      ],
      "text/plain": [
       "<pandas.io.formats.style.Styler at 0x2338ea8bcd0>"
      ]
     },
     "metadata": {},
     "output_type": "display_data"
    },
    {
     "ename": "AttributeError",
     "evalue": "'Line2D' object has no property 'colors'",
     "output_type": "error",
     "traceback": [
      "\u001b[1;31m---------------------------------------------------------------------------\u001b[0m",
      "\u001b[1;31mAttributeError\u001b[0m                            Traceback (most recent call last)",
      "\u001b[1;32m<ipython-input-22-4db8c7a6792a>\u001b[0m in \u001b[0;36m<module>\u001b[1;34m\u001b[0m\n\u001b[0;32m      5\u001b[0m \u001b[1;33m\u001b[0m\u001b[0m\n\u001b[0;32m      6\u001b[0m \u001b[1;31m# lets plot these values using lineplot\u001b[0m\u001b[1;33m\u001b[0m\u001b[1;33m\u001b[0m\u001b[1;33m\u001b[0m\u001b[0m\n\u001b[1;32m----> 7\u001b[1;33m \u001b[0mdata\u001b[0m\u001b[1;33m[\u001b[0m\u001b[1;33m[\u001b[0m\u001b[1;34m'Genre1'\u001b[0m\u001b[1;33m,\u001b[0m\u001b[1;34m'gross'\u001b[0m\u001b[1;33m,\u001b[0m\u001b[1;33m]\u001b[0m\u001b[1;33m]\u001b[0m\u001b[1;33m.\u001b[0m\u001b[0mgroupby\u001b[0m\u001b[1;33m(\u001b[0m\u001b[1;33m[\u001b[0m\u001b[1;34m'Genre1'\u001b[0m\u001b[1;33m]\u001b[0m\u001b[1;33m)\u001b[0m\u001b[1;33m.\u001b[0m\u001b[0magg\u001b[0m\u001b[1;33m(\u001b[0m\u001b[1;33m[\u001b[0m\u001b[1;34m'max'\u001b[0m\u001b[1;33m,\u001b[0m\u001b[1;34m'mean'\u001b[0m\u001b[1;33m,\u001b[0m\u001b[1;34m'min'\u001b[0m\u001b[1;33m]\u001b[0m\u001b[1;33m)\u001b[0m\u001b[1;33m.\u001b[0m\u001b[0mplot\u001b[0m\u001b[1;33m(\u001b[0m\u001b[0mkind\u001b[0m \u001b[1;33m=\u001b[0m \u001b[1;34m'line'\u001b[0m\u001b[1;33m,\u001b[0m \u001b[0mcolors\u001b[0m \u001b[1;33m=\u001b[0m \u001b[1;33m[\u001b[0m\u001b[1;34m'red'\u001b[0m\u001b[1;33m,\u001b[0m\u001b[1;34m'black'\u001b[0m\u001b[1;33m,\u001b[0m\u001b[1;34m'blue'\u001b[0m\u001b[1;33m]\u001b[0m\u001b[1;33m)\u001b[0m\u001b[1;33m\u001b[0m\u001b[1;33m\u001b[0m\u001b[0m\n\u001b[0m\u001b[0;32m      8\u001b[0m \u001b[0mplt\u001b[0m\u001b[1;33m.\u001b[0m\u001b[0mtitle\u001b[0m\u001b[1;33m(\u001b[0m\u001b[1;34m'Which Genre is Most Bankable?'\u001b[0m\u001b[1;33m,\u001b[0m \u001b[0mfontsize\u001b[0m \u001b[1;33m=\u001b[0m \u001b[1;36m20\u001b[0m\u001b[1;33m)\u001b[0m\u001b[1;33m\u001b[0m\u001b[1;33m\u001b[0m\u001b[0m\n\u001b[0;32m      9\u001b[0m plt.xticks(np.arange(17), ['Action', 'Adventure', 'Animation', 'Biography', 'Comedy', 'Crime',\n",
      "\u001b[1;32mE:\\AnacondaIDE\\lib\\site-packages\\pandas\\plotting\\_core.py\u001b[0m in \u001b[0;36m__call__\u001b[1;34m(self, *args, **kwargs)\u001b[0m\n\u001b[0;32m    970\u001b[0m                     \u001b[0mdata\u001b[0m\u001b[1;33m.\u001b[0m\u001b[0mcolumns\u001b[0m \u001b[1;33m=\u001b[0m \u001b[0mlabel_name\u001b[0m\u001b[1;33m\u001b[0m\u001b[1;33m\u001b[0m\u001b[0m\n\u001b[0;32m    971\u001b[0m \u001b[1;33m\u001b[0m\u001b[0m\n\u001b[1;32m--> 972\u001b[1;33m         \u001b[1;32mreturn\u001b[0m \u001b[0mplot_backend\u001b[0m\u001b[1;33m.\u001b[0m\u001b[0mplot\u001b[0m\u001b[1;33m(\u001b[0m\u001b[0mdata\u001b[0m\u001b[1;33m,\u001b[0m \u001b[0mkind\u001b[0m\u001b[1;33m=\u001b[0m\u001b[0mkind\u001b[0m\u001b[1;33m,\u001b[0m \u001b[1;33m**\u001b[0m\u001b[0mkwargs\u001b[0m\u001b[1;33m)\u001b[0m\u001b[1;33m\u001b[0m\u001b[1;33m\u001b[0m\u001b[0m\n\u001b[0m\u001b[0;32m    973\u001b[0m \u001b[1;33m\u001b[0m\u001b[0m\n\u001b[0;32m    974\u001b[0m     \u001b[0m__call__\u001b[0m\u001b[1;33m.\u001b[0m\u001b[0m__doc__\u001b[0m \u001b[1;33m=\u001b[0m \u001b[0m__doc__\u001b[0m\u001b[1;33m\u001b[0m\u001b[1;33m\u001b[0m\u001b[0m\n",
      "\u001b[1;32mE:\\AnacondaIDE\\lib\\site-packages\\pandas\\plotting\\_matplotlib\\__init__.py\u001b[0m in \u001b[0;36mplot\u001b[1;34m(data, kind, **kwargs)\u001b[0m\n\u001b[0;32m     69\u001b[0m             \u001b[0mkwargs\u001b[0m\u001b[1;33m[\u001b[0m\u001b[1;34m\"ax\"\u001b[0m\u001b[1;33m]\u001b[0m \u001b[1;33m=\u001b[0m \u001b[0mgetattr\u001b[0m\u001b[1;33m(\u001b[0m\u001b[0max\u001b[0m\u001b[1;33m,\u001b[0m \u001b[1;34m\"left_ax\"\u001b[0m\u001b[1;33m,\u001b[0m \u001b[0max\u001b[0m\u001b[1;33m)\u001b[0m\u001b[1;33m\u001b[0m\u001b[1;33m\u001b[0m\u001b[0m\n\u001b[0;32m     70\u001b[0m     \u001b[0mplot_obj\u001b[0m \u001b[1;33m=\u001b[0m \u001b[0mPLOT_CLASSES\u001b[0m\u001b[1;33m[\u001b[0m\u001b[0mkind\u001b[0m\u001b[1;33m]\u001b[0m\u001b[1;33m(\u001b[0m\u001b[0mdata\u001b[0m\u001b[1;33m,\u001b[0m \u001b[1;33m**\u001b[0m\u001b[0mkwargs\u001b[0m\u001b[1;33m)\u001b[0m\u001b[1;33m\u001b[0m\u001b[1;33m\u001b[0m\u001b[0m\n\u001b[1;32m---> 71\u001b[1;33m     \u001b[0mplot_obj\u001b[0m\u001b[1;33m.\u001b[0m\u001b[0mgenerate\u001b[0m\u001b[1;33m(\u001b[0m\u001b[1;33m)\u001b[0m\u001b[1;33m\u001b[0m\u001b[1;33m\u001b[0m\u001b[0m\n\u001b[0m\u001b[0;32m     72\u001b[0m     \u001b[0mplot_obj\u001b[0m\u001b[1;33m.\u001b[0m\u001b[0mdraw\u001b[0m\u001b[1;33m(\u001b[0m\u001b[1;33m)\u001b[0m\u001b[1;33m\u001b[0m\u001b[1;33m\u001b[0m\u001b[0m\n\u001b[0;32m     73\u001b[0m     \u001b[1;32mreturn\u001b[0m \u001b[0mplot_obj\u001b[0m\u001b[1;33m.\u001b[0m\u001b[0mresult\u001b[0m\u001b[1;33m\u001b[0m\u001b[1;33m\u001b[0m\u001b[0m\n",
      "\u001b[1;32mE:\\AnacondaIDE\\lib\\site-packages\\pandas\\plotting\\_matplotlib\\core.py\u001b[0m in \u001b[0;36mgenerate\u001b[1;34m(self)\u001b[0m\n\u001b[0;32m    286\u001b[0m         \u001b[0mself\u001b[0m\u001b[1;33m.\u001b[0m\u001b[0m_compute_plot_data\u001b[0m\u001b[1;33m(\u001b[0m\u001b[1;33m)\u001b[0m\u001b[1;33m\u001b[0m\u001b[1;33m\u001b[0m\u001b[0m\n\u001b[0;32m    287\u001b[0m         \u001b[0mself\u001b[0m\u001b[1;33m.\u001b[0m\u001b[0m_setup_subplots\u001b[0m\u001b[1;33m(\u001b[0m\u001b[1;33m)\u001b[0m\u001b[1;33m\u001b[0m\u001b[1;33m\u001b[0m\u001b[0m\n\u001b[1;32m--> 288\u001b[1;33m         \u001b[0mself\u001b[0m\u001b[1;33m.\u001b[0m\u001b[0m_make_plot\u001b[0m\u001b[1;33m(\u001b[0m\u001b[1;33m)\u001b[0m\u001b[1;33m\u001b[0m\u001b[1;33m\u001b[0m\u001b[0m\n\u001b[0m\u001b[0;32m    289\u001b[0m         \u001b[0mself\u001b[0m\u001b[1;33m.\u001b[0m\u001b[0m_add_table\u001b[0m\u001b[1;33m(\u001b[0m\u001b[1;33m)\u001b[0m\u001b[1;33m\u001b[0m\u001b[1;33m\u001b[0m\u001b[0m\n\u001b[0;32m    290\u001b[0m         \u001b[0mself\u001b[0m\u001b[1;33m.\u001b[0m\u001b[0m_make_legend\u001b[0m\u001b[1;33m(\u001b[0m\u001b[1;33m)\u001b[0m\u001b[1;33m\u001b[0m\u001b[1;33m\u001b[0m\u001b[0m\n",
      "\u001b[1;32mE:\\AnacondaIDE\\lib\\site-packages\\pandas\\plotting\\_matplotlib\\core.py\u001b[0m in \u001b[0;36m_make_plot\u001b[1;34m(self)\u001b[0m\n\u001b[0;32m   1180\u001b[0m             \u001b[0mkwds\u001b[0m\u001b[1;33m[\u001b[0m\u001b[1;34m\"label\"\u001b[0m\u001b[1;33m]\u001b[0m \u001b[1;33m=\u001b[0m \u001b[0mlabel\u001b[0m\u001b[1;33m\u001b[0m\u001b[1;33m\u001b[0m\u001b[0m\n\u001b[0;32m   1181\u001b[0m \u001b[1;33m\u001b[0m\u001b[0m\n\u001b[1;32m-> 1182\u001b[1;33m             newlines = plotf(\n\u001b[0m\u001b[0;32m   1183\u001b[0m                 \u001b[0max\u001b[0m\u001b[1;33m,\u001b[0m\u001b[1;33m\u001b[0m\u001b[1;33m\u001b[0m\u001b[0m\n\u001b[0;32m   1184\u001b[0m                 \u001b[0mx\u001b[0m\u001b[1;33m,\u001b[0m\u001b[1;33m\u001b[0m\u001b[1;33m\u001b[0m\u001b[0m\n",
      "\u001b[1;32mE:\\AnacondaIDE\\lib\\site-packages\\pandas\\plotting\\_matplotlib\\core.py\u001b[0m in \u001b[0;36m_plot\u001b[1;34m(cls, ax, x, y, style, column_num, stacking_id, **kwds)\u001b[0m\n\u001b[0;32m   1209\u001b[0m             \u001b[0mcls\u001b[0m\u001b[1;33m.\u001b[0m\u001b[0m_initialize_stacker\u001b[0m\u001b[1;33m(\u001b[0m\u001b[0max\u001b[0m\u001b[1;33m,\u001b[0m \u001b[0mstacking_id\u001b[0m\u001b[1;33m,\u001b[0m \u001b[0mlen\u001b[0m\u001b[1;33m(\u001b[0m\u001b[0my\u001b[0m\u001b[1;33m)\u001b[0m\u001b[1;33m)\u001b[0m\u001b[1;33m\u001b[0m\u001b[1;33m\u001b[0m\u001b[0m\n\u001b[0;32m   1210\u001b[0m         \u001b[0my_values\u001b[0m \u001b[1;33m=\u001b[0m \u001b[0mcls\u001b[0m\u001b[1;33m.\u001b[0m\u001b[0m_get_stacked_values\u001b[0m\u001b[1;33m(\u001b[0m\u001b[0max\u001b[0m\u001b[1;33m,\u001b[0m \u001b[0mstacking_id\u001b[0m\u001b[1;33m,\u001b[0m \u001b[0my\u001b[0m\u001b[1;33m,\u001b[0m \u001b[0mkwds\u001b[0m\u001b[1;33m[\u001b[0m\u001b[1;34m\"label\"\u001b[0m\u001b[1;33m]\u001b[0m\u001b[1;33m)\u001b[0m\u001b[1;33m\u001b[0m\u001b[1;33m\u001b[0m\u001b[0m\n\u001b[1;32m-> 1211\u001b[1;33m         \u001b[0mlines\u001b[0m \u001b[1;33m=\u001b[0m \u001b[0mMPLPlot\u001b[0m\u001b[1;33m.\u001b[0m\u001b[0m_plot\u001b[0m\u001b[1;33m(\u001b[0m\u001b[0max\u001b[0m\u001b[1;33m,\u001b[0m \u001b[0mx\u001b[0m\u001b[1;33m,\u001b[0m \u001b[0my_values\u001b[0m\u001b[1;33m,\u001b[0m \u001b[0mstyle\u001b[0m\u001b[1;33m=\u001b[0m\u001b[0mstyle\u001b[0m\u001b[1;33m,\u001b[0m \u001b[1;33m**\u001b[0m\u001b[0mkwds\u001b[0m\u001b[1;33m)\u001b[0m\u001b[1;33m\u001b[0m\u001b[1;33m\u001b[0m\u001b[0m\n\u001b[0m\u001b[0;32m   1212\u001b[0m         \u001b[0mcls\u001b[0m\u001b[1;33m.\u001b[0m\u001b[0m_update_stacker\u001b[0m\u001b[1;33m(\u001b[0m\u001b[0max\u001b[0m\u001b[1;33m,\u001b[0m \u001b[0mstacking_id\u001b[0m\u001b[1;33m,\u001b[0m \u001b[0my\u001b[0m\u001b[1;33m)\u001b[0m\u001b[1;33m\u001b[0m\u001b[1;33m\u001b[0m\u001b[0m\n\u001b[0;32m   1213\u001b[0m         \u001b[1;32mreturn\u001b[0m \u001b[0mlines\u001b[0m\u001b[1;33m\u001b[0m\u001b[1;33m\u001b[0m\u001b[0m\n",
      "\u001b[1;32mE:\\AnacondaIDE\\lib\\site-packages\\pandas\\plotting\\_matplotlib\\converter.py\u001b[0m in \u001b[0;36mwrapper\u001b[1;34m(*args, **kwargs)\u001b[0m\n\u001b[0;32m     85\u001b[0m     \u001b[1;32mdef\u001b[0m \u001b[0mwrapper\u001b[0m\u001b[1;33m(\u001b[0m\u001b[1;33m*\u001b[0m\u001b[0margs\u001b[0m\u001b[1;33m,\u001b[0m \u001b[1;33m**\u001b[0m\u001b[0mkwargs\u001b[0m\u001b[1;33m)\u001b[0m\u001b[1;33m:\u001b[0m\u001b[1;33m\u001b[0m\u001b[1;33m\u001b[0m\u001b[0m\n\u001b[0;32m     86\u001b[0m         \u001b[1;32mwith\u001b[0m \u001b[0mpandas_converters\u001b[0m\u001b[1;33m(\u001b[0m\u001b[1;33m)\u001b[0m\u001b[1;33m:\u001b[0m\u001b[1;33m\u001b[0m\u001b[1;33m\u001b[0m\u001b[0m\n\u001b[1;32m---> 87\u001b[1;33m             \u001b[1;32mreturn\u001b[0m \u001b[0mfunc\u001b[0m\u001b[1;33m(\u001b[0m\u001b[1;33m*\u001b[0m\u001b[0margs\u001b[0m\u001b[1;33m,\u001b[0m \u001b[1;33m**\u001b[0m\u001b[0mkwargs\u001b[0m\u001b[1;33m)\u001b[0m\u001b[1;33m\u001b[0m\u001b[1;33m\u001b[0m\u001b[0m\n\u001b[0m\u001b[0;32m     88\u001b[0m \u001b[1;33m\u001b[0m\u001b[0m\n\u001b[0;32m     89\u001b[0m     \u001b[1;32mreturn\u001b[0m \u001b[0mwrapper\u001b[0m\u001b[1;33m\u001b[0m\u001b[1;33m\u001b[0m\u001b[0m\n",
      "\u001b[1;32mE:\\AnacondaIDE\\lib\\site-packages\\pandas\\plotting\\_matplotlib\\core.py\u001b[0m in \u001b[0;36m_plot\u001b[1;34m(cls, ax, x, y, style, is_errorbar, **kwds)\u001b[0m\n\u001b[0;32m    709\u001b[0m             \u001b[1;31m# prevent style kwarg from going to errorbar, where it is unsupported\u001b[0m\u001b[1;33m\u001b[0m\u001b[1;33m\u001b[0m\u001b[1;33m\u001b[0m\u001b[0m\n\u001b[0;32m    710\u001b[0m             \u001b[0margs\u001b[0m \u001b[1;33m=\u001b[0m \u001b[1;33m(\u001b[0m\u001b[0mx\u001b[0m\u001b[1;33m,\u001b[0m \u001b[0my\u001b[0m\u001b[1;33m,\u001b[0m \u001b[0mstyle\u001b[0m\u001b[1;33m)\u001b[0m \u001b[1;32mif\u001b[0m \u001b[0mstyle\u001b[0m \u001b[1;32mis\u001b[0m \u001b[1;32mnot\u001b[0m \u001b[1;32mNone\u001b[0m \u001b[1;32melse\u001b[0m \u001b[1;33m(\u001b[0m\u001b[0mx\u001b[0m\u001b[1;33m,\u001b[0m \u001b[0my\u001b[0m\u001b[1;33m)\u001b[0m\u001b[1;33m\u001b[0m\u001b[1;33m\u001b[0m\u001b[0m\n\u001b[1;32m--> 711\u001b[1;33m             \u001b[1;32mreturn\u001b[0m \u001b[0max\u001b[0m\u001b[1;33m.\u001b[0m\u001b[0mplot\u001b[0m\u001b[1;33m(\u001b[0m\u001b[1;33m*\u001b[0m\u001b[0margs\u001b[0m\u001b[1;33m,\u001b[0m \u001b[1;33m**\u001b[0m\u001b[0mkwds\u001b[0m\u001b[1;33m)\u001b[0m\u001b[1;33m\u001b[0m\u001b[1;33m\u001b[0m\u001b[0m\n\u001b[0m\u001b[0;32m    712\u001b[0m \u001b[1;33m\u001b[0m\u001b[0m\n\u001b[0;32m    713\u001b[0m     \u001b[1;32mdef\u001b[0m \u001b[0m_get_index_name\u001b[0m\u001b[1;33m(\u001b[0m\u001b[0mself\u001b[0m\u001b[1;33m)\u001b[0m \u001b[1;33m->\u001b[0m \u001b[0mstr\u001b[0m \u001b[1;33m|\u001b[0m \u001b[1;32mNone\u001b[0m\u001b[1;33m:\u001b[0m\u001b[1;33m\u001b[0m\u001b[1;33m\u001b[0m\u001b[0m\n",
      "\u001b[1;32mE:\\AnacondaIDE\\lib\\site-packages\\matplotlib\\axes\\_axes.py\u001b[0m in \u001b[0;36mplot\u001b[1;34m(self, scalex, scaley, data, *args, **kwargs)\u001b[0m\n\u001b[0;32m   1741\u001b[0m         \"\"\"\n\u001b[0;32m   1742\u001b[0m         \u001b[0mkwargs\u001b[0m \u001b[1;33m=\u001b[0m \u001b[0mcbook\u001b[0m\u001b[1;33m.\u001b[0m\u001b[0mnormalize_kwargs\u001b[0m\u001b[1;33m(\u001b[0m\u001b[0mkwargs\u001b[0m\u001b[1;33m,\u001b[0m \u001b[0mmlines\u001b[0m\u001b[1;33m.\u001b[0m\u001b[0mLine2D\u001b[0m\u001b[1;33m)\u001b[0m\u001b[1;33m\u001b[0m\u001b[1;33m\u001b[0m\u001b[0m\n\u001b[1;32m-> 1743\u001b[1;33m         \u001b[0mlines\u001b[0m \u001b[1;33m=\u001b[0m \u001b[1;33m[\u001b[0m\u001b[1;33m*\u001b[0m\u001b[0mself\u001b[0m\u001b[1;33m.\u001b[0m\u001b[0m_get_lines\u001b[0m\u001b[1;33m(\u001b[0m\u001b[1;33m*\u001b[0m\u001b[0margs\u001b[0m\u001b[1;33m,\u001b[0m \u001b[0mdata\u001b[0m\u001b[1;33m=\u001b[0m\u001b[0mdata\u001b[0m\u001b[1;33m,\u001b[0m \u001b[1;33m**\u001b[0m\u001b[0mkwargs\u001b[0m\u001b[1;33m)\u001b[0m\u001b[1;33m]\u001b[0m\u001b[1;33m\u001b[0m\u001b[1;33m\u001b[0m\u001b[0m\n\u001b[0m\u001b[0;32m   1744\u001b[0m         \u001b[1;32mfor\u001b[0m \u001b[0mline\u001b[0m \u001b[1;32min\u001b[0m \u001b[0mlines\u001b[0m\u001b[1;33m:\u001b[0m\u001b[1;33m\u001b[0m\u001b[1;33m\u001b[0m\u001b[0m\n\u001b[0;32m   1745\u001b[0m             \u001b[0mself\u001b[0m\u001b[1;33m.\u001b[0m\u001b[0madd_line\u001b[0m\u001b[1;33m(\u001b[0m\u001b[0mline\u001b[0m\u001b[1;33m)\u001b[0m\u001b[1;33m\u001b[0m\u001b[1;33m\u001b[0m\u001b[0m\n",
      "\u001b[1;32mE:\\AnacondaIDE\\lib\\site-packages\\matplotlib\\axes\\_base.py\u001b[0m in \u001b[0;36m__call__\u001b[1;34m(self, data, *args, **kwargs)\u001b[0m\n\u001b[0;32m    271\u001b[0m                 \u001b[0mthis\u001b[0m \u001b[1;33m+=\u001b[0m \u001b[0margs\u001b[0m\u001b[1;33m[\u001b[0m\u001b[1;36m0\u001b[0m\u001b[1;33m]\u001b[0m\u001b[1;33m,\u001b[0m\u001b[1;33m\u001b[0m\u001b[1;33m\u001b[0m\u001b[0m\n\u001b[0;32m    272\u001b[0m                 \u001b[0margs\u001b[0m \u001b[1;33m=\u001b[0m \u001b[0margs\u001b[0m\u001b[1;33m[\u001b[0m\u001b[1;36m1\u001b[0m\u001b[1;33m:\u001b[0m\u001b[1;33m]\u001b[0m\u001b[1;33m\u001b[0m\u001b[1;33m\u001b[0m\u001b[0m\n\u001b[1;32m--> 273\u001b[1;33m             \u001b[1;32myield\u001b[0m \u001b[1;32mfrom\u001b[0m \u001b[0mself\u001b[0m\u001b[1;33m.\u001b[0m\u001b[0m_plot_args\u001b[0m\u001b[1;33m(\u001b[0m\u001b[0mthis\u001b[0m\u001b[1;33m,\u001b[0m \u001b[0mkwargs\u001b[0m\u001b[1;33m)\u001b[0m\u001b[1;33m\u001b[0m\u001b[1;33m\u001b[0m\u001b[0m\n\u001b[0m\u001b[0;32m    274\u001b[0m \u001b[1;33m\u001b[0m\u001b[0m\n\u001b[0;32m    275\u001b[0m     \u001b[1;32mdef\u001b[0m \u001b[0mget_next_color\u001b[0m\u001b[1;33m(\u001b[0m\u001b[0mself\u001b[0m\u001b[1;33m)\u001b[0m\u001b[1;33m:\u001b[0m\u001b[1;33m\u001b[0m\u001b[1;33m\u001b[0m\u001b[0m\n",
      "\u001b[1;32mE:\\AnacondaIDE\\lib\\site-packages\\matplotlib\\axes\\_base.py\u001b[0m in \u001b[0;36m_plot_args\u001b[1;34m(self, tup, kwargs)\u001b[0m\n\u001b[0;32m    416\u001b[0m         \u001b[1;32mif\u001b[0m \u001b[0mncx\u001b[0m \u001b[1;33m>\u001b[0m \u001b[1;36m1\u001b[0m \u001b[1;32mand\u001b[0m \u001b[0mncy\u001b[0m \u001b[1;33m>\u001b[0m \u001b[1;36m1\u001b[0m \u001b[1;32mand\u001b[0m \u001b[0mncx\u001b[0m \u001b[1;33m!=\u001b[0m \u001b[0mncy\u001b[0m\u001b[1;33m:\u001b[0m\u001b[1;33m\u001b[0m\u001b[1;33m\u001b[0m\u001b[0m\n\u001b[0;32m    417\u001b[0m             \u001b[1;32mraise\u001b[0m \u001b[0mValueError\u001b[0m\u001b[1;33m(\u001b[0m\u001b[1;34mf\"x has {ncx} columns but y has {ncy} columns\"\u001b[0m\u001b[1;33m)\u001b[0m\u001b[1;33m\u001b[0m\u001b[1;33m\u001b[0m\u001b[0m\n\u001b[1;32m--> 418\u001b[1;33m         return [func(x[:, j % ncx], y[:, j % ncy], kw, kwargs)\n\u001b[0m\u001b[0;32m    419\u001b[0m                 for j in range(max(ncx, ncy))]\n\u001b[0;32m    420\u001b[0m \u001b[1;33m\u001b[0m\u001b[0m\n",
      "\u001b[1;32mE:\\AnacondaIDE\\lib\\site-packages\\matplotlib\\axes\\_base.py\u001b[0m in \u001b[0;36m<listcomp>\u001b[1;34m(.0)\u001b[0m\n\u001b[0;32m    416\u001b[0m         \u001b[1;32mif\u001b[0m \u001b[0mncx\u001b[0m \u001b[1;33m>\u001b[0m \u001b[1;36m1\u001b[0m \u001b[1;32mand\u001b[0m \u001b[0mncy\u001b[0m \u001b[1;33m>\u001b[0m \u001b[1;36m1\u001b[0m \u001b[1;32mand\u001b[0m \u001b[0mncx\u001b[0m \u001b[1;33m!=\u001b[0m \u001b[0mncy\u001b[0m\u001b[1;33m:\u001b[0m\u001b[1;33m\u001b[0m\u001b[1;33m\u001b[0m\u001b[0m\n\u001b[0;32m    417\u001b[0m             \u001b[1;32mraise\u001b[0m \u001b[0mValueError\u001b[0m\u001b[1;33m(\u001b[0m\u001b[1;34mf\"x has {ncx} columns but y has {ncy} columns\"\u001b[0m\u001b[1;33m)\u001b[0m\u001b[1;33m\u001b[0m\u001b[1;33m\u001b[0m\u001b[0m\n\u001b[1;32m--> 418\u001b[1;33m         return [func(x[:, j % ncx], y[:, j % ncy], kw, kwargs)\n\u001b[0m\u001b[0;32m    419\u001b[0m                 for j in range(max(ncx, ncy))]\n\u001b[0;32m    420\u001b[0m \u001b[1;33m\u001b[0m\u001b[0m\n",
      "\u001b[1;32mE:\\AnacondaIDE\\lib\\site-packages\\matplotlib\\axes\\_base.py\u001b[0m in \u001b[0;36m_makeline\u001b[1;34m(self, x, y, kw, kwargs)\u001b[0m\n\u001b[0;32m    310\u001b[0m         \u001b[0mdefault_dict\u001b[0m \u001b[1;33m=\u001b[0m \u001b[0mself\u001b[0m\u001b[1;33m.\u001b[0m\u001b[0m_getdefaults\u001b[0m\u001b[1;33m(\u001b[0m\u001b[0mset\u001b[0m\u001b[1;33m(\u001b[0m\u001b[1;33m)\u001b[0m\u001b[1;33m,\u001b[0m \u001b[0mkw\u001b[0m\u001b[1;33m)\u001b[0m\u001b[1;33m\u001b[0m\u001b[1;33m\u001b[0m\u001b[0m\n\u001b[0;32m    311\u001b[0m         \u001b[0mself\u001b[0m\u001b[1;33m.\u001b[0m\u001b[0m_setdefaults\u001b[0m\u001b[1;33m(\u001b[0m\u001b[0mdefault_dict\u001b[0m\u001b[1;33m,\u001b[0m \u001b[0mkw\u001b[0m\u001b[1;33m)\u001b[0m\u001b[1;33m\u001b[0m\u001b[1;33m\u001b[0m\u001b[0m\n\u001b[1;32m--> 312\u001b[1;33m         \u001b[0mseg\u001b[0m \u001b[1;33m=\u001b[0m \u001b[0mmlines\u001b[0m\u001b[1;33m.\u001b[0m\u001b[0mLine2D\u001b[0m\u001b[1;33m(\u001b[0m\u001b[0mx\u001b[0m\u001b[1;33m,\u001b[0m \u001b[0my\u001b[0m\u001b[1;33m,\u001b[0m \u001b[1;33m**\u001b[0m\u001b[0mkw\u001b[0m\u001b[1;33m)\u001b[0m\u001b[1;33m\u001b[0m\u001b[1;33m\u001b[0m\u001b[0m\n\u001b[0m\u001b[0;32m    313\u001b[0m         \u001b[1;32mreturn\u001b[0m \u001b[0mseg\u001b[0m\u001b[1;33m\u001b[0m\u001b[1;33m\u001b[0m\u001b[0m\n\u001b[0;32m    314\u001b[0m \u001b[1;33m\u001b[0m\u001b[0m\n",
      "\u001b[1;32mE:\\AnacondaIDE\\lib\\site-packages\\matplotlib\\lines.py\u001b[0m in \u001b[0;36m__init__\u001b[1;34m(self, xdata, ydata, linewidth, linestyle, color, marker, markersize, markeredgewidth, markeredgecolor, markerfacecolor, markerfacecoloralt, fillstyle, antialiased, dash_capstyle, solid_capstyle, dash_joinstyle, solid_joinstyle, pickradius, drawstyle, markevery, **kwargs)\u001b[0m\n\u001b[0;32m    388\u001b[0m         \u001b[1;31m# update kwargs before updating data to give the caller a\u001b[0m\u001b[1;33m\u001b[0m\u001b[1;33m\u001b[0m\u001b[1;33m\u001b[0m\u001b[0m\n\u001b[0;32m    389\u001b[0m         \u001b[1;31m# chance to init axes (and hence unit support)\u001b[0m\u001b[1;33m\u001b[0m\u001b[1;33m\u001b[0m\u001b[1;33m\u001b[0m\u001b[0m\n\u001b[1;32m--> 390\u001b[1;33m         \u001b[0mself\u001b[0m\u001b[1;33m.\u001b[0m\u001b[0mupdate\u001b[0m\u001b[1;33m(\u001b[0m\u001b[0mkwargs\u001b[0m\u001b[1;33m)\u001b[0m\u001b[1;33m\u001b[0m\u001b[1;33m\u001b[0m\u001b[0m\n\u001b[0m\u001b[0;32m    391\u001b[0m         \u001b[0mself\u001b[0m\u001b[1;33m.\u001b[0m\u001b[0mpickradius\u001b[0m \u001b[1;33m=\u001b[0m \u001b[0mpickradius\u001b[0m\u001b[1;33m\u001b[0m\u001b[1;33m\u001b[0m\u001b[0m\n\u001b[0;32m    392\u001b[0m         \u001b[0mself\u001b[0m\u001b[1;33m.\u001b[0m\u001b[0mind_offset\u001b[0m \u001b[1;33m=\u001b[0m \u001b[1;36m0\u001b[0m\u001b[1;33m\u001b[0m\u001b[1;33m\u001b[0m\u001b[0m\n",
      "\u001b[1;32mE:\\AnacondaIDE\\lib\\site-packages\\matplotlib\\artist.py\u001b[0m in \u001b[0;36mupdate\u001b[1;34m(self, props)\u001b[0m\n\u001b[0;32m    994\u001b[0m                     \u001b[0mfunc\u001b[0m \u001b[1;33m=\u001b[0m \u001b[0mgetattr\u001b[0m\u001b[1;33m(\u001b[0m\u001b[0mself\u001b[0m\u001b[1;33m,\u001b[0m \u001b[1;34mf\"set_{k}\"\u001b[0m\u001b[1;33m,\u001b[0m \u001b[1;32mNone\u001b[0m\u001b[1;33m)\u001b[0m\u001b[1;33m\u001b[0m\u001b[1;33m\u001b[0m\u001b[0m\n\u001b[0;32m    995\u001b[0m                     \u001b[1;32mif\u001b[0m \u001b[1;32mnot\u001b[0m \u001b[0mcallable\u001b[0m\u001b[1;33m(\u001b[0m\u001b[0mfunc\u001b[0m\u001b[1;33m)\u001b[0m\u001b[1;33m:\u001b[0m\u001b[1;33m\u001b[0m\u001b[1;33m\u001b[0m\u001b[0m\n\u001b[1;32m--> 996\u001b[1;33m                         raise AttributeError(f\"{type(self).__name__!r} object \"\n\u001b[0m\u001b[0;32m    997\u001b[0m                                              f\"has no property {k!r}\")\n\u001b[0;32m    998\u001b[0m                     \u001b[0mret\u001b[0m\u001b[1;33m.\u001b[0m\u001b[0mappend\u001b[0m\u001b[1;33m(\u001b[0m\u001b[0mfunc\u001b[0m\u001b[1;33m(\u001b[0m\u001b[0mv\u001b[0m\u001b[1;33m)\u001b[0m\u001b[1;33m)\u001b[0m\u001b[1;33m\u001b[0m\u001b[1;33m\u001b[0m\u001b[0m\n",
      "\u001b[1;31mAttributeError\u001b[0m: 'Line2D' object has no property 'colors'"
     ]
    },
    {
     "data": {
      "image/png": "[encoded data removed]",
      "text/plain": [
       "<Figure size 1152x576 with 1 Axes>"
      ]
     },
     "metadata": {},
     "output_type": "display_data"
    }
   ],
   "source": [
    "# Lets compare the Gross with Genres\n",
    "\n",
    "# first group the genres and get max, min, and avg gross of the movies of that genre.)\n",
    "display(data[['Genre1','gross',]].groupby(['Genre1']).agg(['max','mean','min']).style.background_gradient(cmap = 'Wistia'))\n",
    "\n",
    "# lets plot these values using lineplot\n",
    "data[['Genre1','gross',]].groupby(['Genre1']).agg(['max','mean','min']).plot(kind = 'line', colors = ['red','black','blue'])\n",
    "plt.title('Which Genre is Most Bankable?', fontsize = 20)\n",
    "plt.xticks(np.arange(17), ['Action', 'Adventure', 'Animation', 'Biography', 'Comedy', 'Crime',\n",
    "       'Documentary', 'Drama', 'Family', 'Fantasy', 'Horror', 'Musical',\n",
    "       'Mystery', 'Romance', 'Sci-Fi', 'Thriller', 'Western'], rotation = 90, fontsize = 15)\n",
    "plt.ylabel('Gross', fontsize = 15)\n",
    "plt.xlabel(' ',)\n",
    "plt.show()\n",
    "\n",
    "print('The Most Profitable Movie from each Genre')\n",
    "display(data.loc[data.groupby(data['Genre1'])['Profit'].idxmax()][['Genre1',\n",
    "                                    'movie_title','gross']].style.background_gradient(cmap = 'copper'))"
   ]
  },
  {
   "cell_type": "code",
   "execution_count": null,
   "metadata": {
    "scrolled": false
   },
   "outputs": [],
   "source": [
    "# lets convert year into integer\n",
    "data['title_year'] = data['title_year'].astype('int')\n",
    "\n",
    "print('Most Profitable Years in Box Office')\n",
    "display(data[['title_year','language','Profit']].groupby(['language',\n",
    "                                    'title_year']).agg('sum').sort_values(by = 'Profit',\n",
    "                                     ascending = False).head(10).style.background_gradient(cmap = 'Greens'))\n",
    "\n",
    "# lets plot them\n",
    "sns.lineplot(data['title_year'], data['Profit'], hue = data['language'])\n",
    "plt.title('Time Series for Box Office Profit for English vs Foreign Movies', fontsize = 20)\n",
    "plt.xticks(fontsize = 18)\n",
    "plt.xlabel(' ')\n",
    "plt.show()\n",
    "\n",
    "print(\"Movies that Made Huge Losses\")\n",
    "display(data[data['Profit'] < -2000][['movie_title',\n",
    "                        'language','Profit']].style.background_gradient(cmap = 'Reds'))"
   ]
  },
  {
   "cell_type": "code",
   "execution_count": null,
   "metadata": {
    "scrolled": false
   },
   "outputs": [],
   "source": [
    "display(data[data['duration'] == 'Long'][['movie_title', 'duration', 'gross',\n",
    "                    'Profit']].sort_values(by = 'Profit',ascending = False).head(5).style.background_gradient(cmap = 'spring'))\n",
    "\n",
    "display(data[data['duration'] == 'Short'][['movie_title', 'duration', 'gross',\n",
    "                    'Profit']].sort_values(by = 'Profit',ascending = False).head(5).style.background_gradient(cmap = 'spring'))\n",
    "\n",
    "sns.barplot(data['duration'], data['gross'], hue = data['language'], palette = 'spring')\n",
    "plt.title('Gross Comparison')"
   ]
  },
  {
   "cell_type": "code",
   "execution_count": null,
   "metadata": {
    "scrolled": false
   },
   "outputs": [],
   "source": [
    "print(\"Average IMDB Score for Long Duration Movies is {0:.2f}\".format(data[data['duration'] == 'Long']['imdb_score'].mean()))\n",
    "print(\"Average IMDB Score for Short Duration Movies is {0:.2f}\".format(data[data['duration'] == 'Short']['imdb_score'].mean()))\n",
    "\n",
    "print(\"\\nHighest Rated Long Duration Movie\\n\", \n",
    "    data[data['duration'] == 'Long'][['movie_title','imdb_score']].sort_values(by = 'imdb_score', ascending = False).head(1))\n",
    "print(\"\\nHighest Rated Short Duration Movie\\n\", \n",
    "    data[data['duration'] == 'Short'][['movie_title','imdb_score']].sort_values(by = 'imdb_score', ascending = False).head(1))\n",
    "\n",
    "sns.boxplot(data['imdb_score'], data['duration'], palette = 'copper')\n",
    "plt.title('IMDB Ratings vs Gross', fontsize = 20)\n",
    "plt.xticks(rotation = 90)\n",
    "plt.show()"
   ]
  },
  {
   "cell_type": "code",
   "execution_count": null,
   "metadata": {},
   "outputs": [],
   "source": [
    "def query_actors(x):\n",
    "    a = data[data['actor_1_name'] == x]\n",
    "    b = data[data['actor_2_name'] == x]\n",
    "    c = data[data['actor_3_name'] == x]\n",
    "    x = a.append(b)\n",
    "    y = x.append(c)\n",
    "    \n",
    "    y = y[['movie_title',\n",
    "       'budget',\n",
    "       'gross',\n",
    "       'title_year',\n",
    "       'genres',\n",
    "       'language',\n",
    "       'imdb_score',\n",
    "        ]]\n",
    "    return y"
   ]
  },
  {
   "cell_type": "code",
   "execution_count": null,
   "metadata": {},
   "outputs": [],
   "source": [
    "query_actors('Meryl Streep')"
   ]
  },
  {
   "cell_type": "code",
   "execution_count": null,
   "metadata": {},
   "outputs": [],
   "source": [
    "def actors_report(x):\n",
    "    a = data[data['actor_1_name'] == x]\n",
    "    b = data[data['actor_2_name'] == x]\n",
    "    c = data[data['actor_3_name'] == x]\n",
    "    x = a.append(b)\n",
    "    y = x.append(c)\n",
    "    print(\"Time:\",y['title_year'].min(), y['title_year'].max())\n",
    "    print(\"Max Gross : {0:.2f} Millions\".format(y['gross'].max()))\n",
    "    print(\"Avg Gross : {0:.2f} Millions\".format(y['gross'].mean()))\n",
    "    print(\"Min Gross : {0:.2f} Millions\".format(y['gross'].min()))\n",
    "    print(\"Number of 100 Million Movies :\", y[y['gross'] > 100].shape[0])\n",
    "    print(\"Avg IMDB Score : {0:.2f}\".format(y['imdb_score'].mean()))\n",
    "    print(\"Most Common Genres:\\n\",y['Genre1'].value_counts().head())\n",
    "    \n",
    "actors_report('Meryl Streep')"
   ]
  },
  {
   "cell_type": "code",
   "execution_count": null,
   "metadata": {},
   "outputs": [],
   "source": [
    "# Lets compare Brad Pitt, Leonardo Caprio and Tom Cruise\n",
    "\n",
    "def critically_acclaimed_actors(m):\n",
    "    a = data[data['actor_1_name'] == m]\n",
    "    b = data[data['actor_2_name'] == m]\n",
    "    c = data[data['actor_3_name'] == m]\n",
    "    x = a.append(b)\n",
    "    y = x.append(c)\n",
    "    return y['num_critic_for_reviews'].sum().astype('int')\n",
    "\n",
    "\n",
    "print(\"Number of Critics Reviews for Brad Pitt\")\n",
    "display(critically_acclaimed_actors('Brad Pitt'))\n",
    "\n",
    "print(\"Number of Critics Reviews for Leonardo DiCaprio\")\n",
    "display(critically_acclaimed_actors('Leonardo DiCaprio'))\n",
    "\n",
    "print(\"Number of Critics Reviews for Tom Cruise\")\n",
    "display(critically_acclaimed_actors('Tom Cruise'))"
   ]
  },
  {
   "cell_type": "code",
   "execution_count": null,
   "metadata": {
    "scrolled": true
   },
   "outputs": [],
   "source": [
    "pd.set_option('max_rows', 3000)\n",
    "\n",
    "@interact\n",
    "def show_movies_more_than(column='imdb_score', score=9.0):\n",
    "    x = data.loc[data[column] > score][[ 'title_year','movie_title',\n",
    "                                       'director_name',\n",
    "                                       'actor_1_name',\n",
    "                                       'actor_2_name',\n",
    "                                       'actor_3_name',\n",
    "                                       'Profit',\n",
    "                                       'imdb_score',\n",
    "                                    ]]\n",
    "    x = x.sort_values(by = 'imdb_score', ascending = False)\n",
    "    x = x.drop_duplicates(keep = 'first')\n",
    "    return x"
   ]
  },
  {
   "cell_type": "code",
   "execution_count": null,
   "metadata": {
    "scrolled": false
   },
   "outputs": [],
   "source": [
    "pd.set_option('max_rows', 30000)\n",
    "\n",
    "@interact\n",
    "def show_articles_more_than(column=['budget','gross'], x=1000):\n",
    "    return data.loc[data[column] > x][['movie_title','duration','gross','Profit','imdb_score']]"
   ]
  },
  {
   "cell_type": "markdown",
   "metadata": {},
   "source": [
    "## Recommending Movies based on Languages"
   ]
  },
  {
   "cell_type": "code",
   "execution_count": null,
   "metadata": {
    "scrolled": true
   },
   "outputs": [],
   "source": [
    "def recommend_lang(x):\n",
    "    y = data[['language','movie_title','imdb_score']][data['language'] == x]\n",
    "    y = y.sort_values(by = 'imdb_score', ascending = False)\n",
    "    return y.head(15)\n"
   ]
  },
  {
   "cell_type": "code",
   "execution_count": null,
   "metadata": {
    "scrolled": false
   },
   "outputs": [],
   "source": [
    "recommend_lang('Foreign')"
   ]
  },
  {
   "cell_type": "markdown",
   "metadata": {},
   "source": [
    "## Recommending Movies Based on Actors"
   ]
  },
  {
   "cell_type": "code",
   "execution_count": null,
   "metadata": {
    "scrolled": false
   },
   "outputs": [],
   "source": [
    "\n",
    "def recommend_movies_on_actors(x):\n",
    "    a = data[['movie_title','imdb_score']][data['actor_1_name'] == x]\n",
    "    b = data[['movie_title','imdb_score']][data['actor_2_name'] == x]\n",
    "    c = data[['movie_title','imdb_score']][data['actor_3_name'] == x]\n",
    "    a = a.append(b)\n",
    "    a = a.append(c)\n",
    "    a = a.sort_values(by = 'imdb_score', ascending = False)\n",
    "    return a.head(15)"
   ]
  },
  {
   "cell_type": "code",
   "execution_count": null,
   "metadata": {
    "scrolled": false
   },
   "outputs": [],
   "source": [
    "recommend_movies_on_actors('Tom Cruise')"
   ]
  },
  {
   "cell_type": "markdown",
   "metadata": {},
   "source": [
    "## Recommending similar Genres"
   ]
  },
  {
   "cell_type": "code",
   "execution_count": null,
   "metadata": {
    "scrolled": true
   },
   "outputs": [],
   "source": [
    "from mlxtend.preprocessing import TransactionEncoder\n",
    "\n",
    "x = data['genres'].str.split('|')\n",
    "te = TransactionEncoder()\n",
    "x = te.fit_transform(x)\n",
    "x = pd.DataFrame(x, columns = te.columns_)\n",
    "\n",
    "# lets check the head of x\n",
    "x.head()"
   ]
  },
  {
   "cell_type": "code",
   "execution_count": null,
   "metadata": {},
   "outputs": [],
   "source": [
    "# lets convert this data into boolean so that we can perform calculations\n",
    "genres = x.astype('int')\n",
    "\n",
    "genres.head()"
   ]
  },
  {
   "cell_type": "code",
   "execution_count": null,
   "metadata": {},
   "outputs": [],
   "source": [
    "# now, lets insert the movie titles in the first column, so that we can better understand the data\n",
    "genres.insert(0, 'movie_title', data['movie_title'])\n",
    "\n",
    "genres.head()"
   ]
  },
  {
   "cell_type": "code",
   "execution_count": null,
   "metadata": {},
   "outputs": [],
   "source": [
    "# lets set these movie titles as index of the data\n",
    "genres = genres.set_index('movie_title')\n",
    "\n",
    "genres.head()"
   ]
  },
  {
   "cell_type": "code",
   "execution_count": null,
   "metadata": {
    "scrolled": false
   },
   "outputs": [],
   "source": [
    "# making a recommendation engine for getting similar genres\n",
    "\n",
    "def recommendation_genres(gen):\n",
    "    gen = genres[gen]\n",
    "    similar_genres = genres.corrwith(gen)\n",
    "    similar_genres = similar_genres.sort_values(ascending=False)\n",
    "    similar_genres = similar_genres.iloc[1:]\n",
    "    return similar_genres.head(3)"
   ]
  },
  {
   "cell_type": "code",
   "execution_count": null,
   "metadata": {
    "scrolled": false
   },
   "outputs": [],
   "source": [
    "recommendation_genres('Action')"
   ]
  },
  {
   "cell_type": "markdown",
   "metadata": {},
   "source": [
    "## Recommending similar Movies"
   ]
  },
  {
   "cell_type": "code",
   "execution_count": null,
   "metadata": {
    "scrolled": false
   },
   "outputs": [],
   "source": [
    "# lets make a sparse matrix to recommend the movies\n",
    "\n",
    "x = genres.transpose()\n",
    "x.head()"
   ]
  },
  {
   "cell_type": "code",
   "execution_count": null,
   "metadata": {
    "scrolled": false
   },
   "outputs": [],
   "source": [
    "# making a recommendation engine for getting similar movies\n",
    "\n",
    "def recommendation_movie(movie):    \n",
    "    movie = x[movie+'\\xa0']\n",
    "    similar_movies = x.corrwith(movie)\n",
    "    similar_movies = similar_movies.sort_values(ascending=False)\n",
    "    similar_movies = similar_movies.iloc[1:]\n",
    "    return similar_movies.head(20)"
   ]
  },
  {
   "cell_type": "code",
   "execution_count": null,
   "metadata": {
    "scrolled": false
   },
   "outputs": [],
   "source": [
    "# lets test on some results\n",
    "recommendation_movie('The Expendables')"
   ]
  }
 ],
 "metadata": {
  "kernelspec": {
   "display_name": "Python 3",
   "language": "python",
   "name": "python3"
  },
  "language_info": {
   "codemirror_mode": {
    "name": "ipython",
    "version": 3
   },
   "file_extension": ".py",
   "mimetype": "text/x-python",
   "name": "python",
   "nbconvert_exporter": "python",
   "pygments_lexer": "ipython3",
   "version": "3.8.10"
  }
 },
 "nbformat": 4,
 "nbformat_minor": 4
}
